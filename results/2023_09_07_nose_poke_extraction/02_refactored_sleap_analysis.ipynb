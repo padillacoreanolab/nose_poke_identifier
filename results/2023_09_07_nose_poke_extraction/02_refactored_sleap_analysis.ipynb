{
 "cells": [
  {
   "cell_type": "markdown",
   "metadata": {
    "cell_id": "c3a02adc9e884466bc8c79db549cc3d2",
    "deepnote_cell_type": "text-cell-h1",
    "formattedRanges": [
     {
      "fromCodePoint": 0,
      "marks": {
       "bold": true,
       "underline": true
      },
      "toCodePoint": 17,
      "type": "marks"
     }
    ]
   },
   "source": [
    "# SLEAP Distance Calculation"
   ]
  },
  {
   "cell_type": "markdown",
   "metadata": {
    "cell_id": "4546bee655b14a5dbf393161f1228e60",
    "deepnote_cell_type": "text-cell-p",
    "formattedRanges": []
   },
   "source": [
    "Brief 1-2 sentence description of notebook."
   ]
  },
  {
   "cell_type": "code",
   "execution_count": 1,
   "metadata": {},
   "outputs": [],
   "source": [
    "import os\n",
    "import glob"
   ]
  },
  {
   "cell_type": "code",
   "execution_count": 2,
   "metadata": {
    "cell_id": "03b495cefa6a4798a44c7f2e4c6a3ea7",
    "deepnote_cell_type": "code",
    "deepnote_to_be_reexecuted": false,
    "execution_millis": 21,
    "execution_start": 1691424003626,
    "source_hash": null
   },
   "outputs": [],
   "source": [
    "# Imports of all used packages and libraries\n",
    "import numpy as np\n",
    "import pandas as pd\n",
    "import seaborn as sns\n",
    "import matplotlib as mpl\n",
    "import matplotlib.pyplot as plt\n",
    "import h5py\n",
    "from scipy.interpolate import interp1d\n",
    "from scipy.signal import savgol_filter\n"
   ]
  },
  {
   "cell_type": "code",
   "execution_count": 3,
   "metadata": {},
   "outputs": [],
   "source": [
    "sns.set('notebook', 'ticks', font_scale=1.2)\n",
    "mpl.rcParams['figure.figsize'] = [15,6]"
   ]
  },
  {
   "cell_type": "markdown",
   "metadata": {
    "cell_id": "d290bac2c17940bfbc0f9296beaf70e5",
    "deepnote_cell_type": "text-cell-h2",
    "formattedRanges": []
   },
   "source": [
    "## Inputs & Data"
   ]
  },
  {
   "cell_type": "markdown",
   "metadata": {
    "cell_id": "e528ce19c608425292151930d380f49f",
    "deepnote_cell_type": "text-cell-p",
    "formattedRanges": []
   },
   "source": [
    "Explanation of each input and where it comes from."
   ]
  },
  {
   "cell_type": "code",
   "execution_count": 4,
   "metadata": {
    "cell_id": "6cf83a5811054461a718a71673d09aab",
    "deepnote_cell_type": "code",
    "deepnote_to_be_reexecuted": false,
    "execution_millis": 373,
    "execution_start": 1691424003628,
    "source_hash": null
   },
   "outputs": [],
   "source": [
    "# Inputs and Required data loading\n",
    "# input varaible names are in all caps snake case\n",
    "# Whenever an input changes or is used for processing \n",
    "# the vairables are all lower in snake case\n",
    "THORAX_INDEX = 1\n",
    "TONE_TIMESTAMP_DF = pd.read_csv(\"./proc/rce_tone_timestamp.csv\", index_col=0)\n",
    "VIDEO_TO_FRAME_AND_SUBJECT_DF = pd.read_excel(\"../../proc/video_to_frame_and_subject.xlsx\")\n",
    "SLEAP_DIR = \"../../proc/id_corrected\"\n",
    "OUTPUT_DIR = r\"./proc\" # where data is saved should always be shown in the inputs\n",
    "MED_PC_WIDTH = 29.5\n",
    "MED_PC_HEIGHT = 24\n",
    "FRAME_RATE = 22\n",
    "WINDOW_SIZE = 25\n",
    "DISTANCE_THRESHOLD = 2"
   ]
  },
  {
   "cell_type": "markdown",
   "metadata": {
    "cell_id": "e3ee4891d43a4ac287413afc552ca289",
    "deepnote_cell_type": "text-cell-h2",
    "formattedRanges": []
   },
   "source": [
    "## Outputs"
   ]
  },
  {
   "cell_type": "markdown",
   "metadata": {
    "cell_id": "9ccbf6cc70fd4d379fa29317f733771f",
    "deepnote_cell_type": "text-cell-p",
    "formattedRanges": []
   },
   "source": [
    "Describe each output that the notebook creates. "
   ]
  },
  {
   "cell_type": "markdown",
   "metadata": {
    "cell_id": "fc8e8920a6944918a15fac575cdf6e78",
    "deepnote_cell_type": "text-cell-bullet",
    "formattedRanges": []
   },
   "source": [
    "- Is it a plot or is it data?"
   ]
  },
  {
   "cell_type": "markdown",
   "metadata": {
    "cell_id": "1e639d4776a84aa9ac8ded2e14fa57db",
    "deepnote_cell_type": "text-cell-bullet",
    "formattedRanges": []
   },
   "source": [
    "- How valuable is the output and why is it valuable or useful?"
   ]
  },
  {
   "cell_type": "markdown",
   "metadata": {
    "cell_id": "8999d19b6b7d4d63bc90f0b0bd9ab085",
    "deepnote_cell_type": "text-cell-h2",
    "formattedRanges": []
   },
   "source": [
    "## Processing"
   ]
  },
  {
   "cell_type": "markdown",
   "metadata": {
    "cell_id": "9b36cdf08567463082b005cb0dec684b",
    "deepnote_cell_type": "text-cell-p",
    "formattedRanges": []
   },
   "source": [
    "Describe what is done to the data here and how inputs are manipulated to generate outputs. "
   ]
  },
  {
   "cell_type": "code",
   "execution_count": 5,
   "metadata": {
    "cell_id": "89aaba237c644628b1b37604b75e7cb1",
    "deepnote_cell_type": "code"
   },
   "outputs": [],
   "source": [
    "# As much code and as many cells as required\n",
    "# includes EDA and playing with data\n",
    "# GO HAM!\n",
    "\n",
    "# Ideally functions are defined here first and then data is processed using the functions\n",
    "\n",
    "# function names are short and in snake case all lowercase\n",
    "# a function name should be unique but does not have to describe the function\n",
    "# doc strings describe functions not function names\n",
    "\n",
    "def calc_bmi(weight, height):\n",
    "    \"\"\"\n",
    "    This is a function that calculates BMI.\n",
    "    it uses height and weight...etc.\n",
    "    Meghan plz show us your docsctring format here.\n",
    "    \"\"\"\n",
    "    bmi = weight/(height**2)\n",
    "    return(bmi)\n"
   ]
  },
  {
   "cell_type": "code",
   "execution_count": 6,
   "metadata": {},
   "outputs": [],
   "source": [
    "def get_sleap_tracks_from_h5(filename):\n",
    "    \"\"\"\n",
    "    Retrieve pose tracking data (tracks) from a SLEAP-generated h5 file.\n",
    "    \n",
    "    This function is intended for use with Pandas' apply method on columns containing filenames.\n",
    "    \n",
    "    Parameters:\n",
    "    ----------\n",
    "    filename : str\n",
    "        Path to the SLEAP h5 file containing pose tracking data.\n",
    "        \n",
    "    Returns:\n",
    "    -------\n",
    "    np.ndarray\n",
    "        A transposed version of the 'tracks' dataset in the provided h5 file.\n",
    "        \n",
    "    Example:\n",
    "    --------\n",
    "    df['tracks'] = df['filename_column'].apply(get_sleap_tracks_from_h5)\n",
    "    \n",
    "    \"\"\"\n",
    "    with h5py.File(filename, \"r\") as f:\n",
    "        return f[\"tracks\"][:].T"
   ]
  },
  {
   "cell_type": "code",
   "execution_count": 7,
   "metadata": {},
   "outputs": [],
   "source": [
    "def get_sleap_track_names_from_h5(filename):\n",
    "    \"\"\"\n",
    "    Retrieve the names of tracked features from a SLEAP-generated h5 file.\n",
    "    \n",
    "    This function is intended for use with Pandas' apply method on columns containing filenames.\n",
    "    \n",
    "    Parameters:\n",
    "    ----------\n",
    "    filename : str\n",
    "        Path to the SLEAP h5 file containing pose tracking data.\n",
    "        \n",
    "    Returns:\n",
    "    -------\n",
    "    h5py.Dataset\n",
    "        The 'track_names' dataset in the provided h5 file, representing the names of the tracked features.\n",
    "        \n",
    "    Example:\n",
    "    --------\n",
    "    df['track_names'] = df['filename_column'].apply(get_sleap_track_names_from_h5)\n",
    "    \n",
    "    \"\"\"\n",
    "    with h5py.File(filename, \"r\") as f:\n",
    "        return [item.tobytes().decode('utf-8') for item in f[\"track_names\"][:]]\n"
   ]
  },
  {
   "cell_type": "code",
   "execution_count": 8,
   "metadata": {},
   "outputs": [],
   "source": [
    "def get_node_names_from_sleap(filename):\n",
    "    \"\"\"\n",
    "    Retrieve node names from a SLEAP h5 file.\n",
    "\n",
    "    Parameters:\n",
    "    - filename (str): Path to the SLEAP h5 file.\n",
    "\n",
    "    Returns:\n",
    "    - list of str: List of node names.\n",
    "    \"\"\"\n",
    "    with h5py.File(filename, \"r\") as f:\n",
    "        return [n.decode() for n in f[\"node_names\"][:]]"
   ]
  },
  {
   "cell_type": "code",
   "execution_count": 9,
   "metadata": {},
   "outputs": [],
   "source": [
    "\n",
    "def fill_missing(Y, kind=\"linear\"):\n",
    "    \"\"\"Fills missing values independently along each dimension after the first.\"\"\"\n",
    "\n",
    "    # Store initial shape.\n",
    "    initial_shape = Y.shape\n",
    "\n",
    "    # Flatten after first dim.\n",
    "    Y = Y.reshape((initial_shape[0], -1))\n",
    "\n",
    "    # Interpolate along each slice.\n",
    "    for i in range(Y.shape[-1]):\n",
    "        y = Y[:, i]\n",
    "\n",
    "        # Build interpolant.\n",
    "        x = np.flatnonzero(~np.isnan(y))\n",
    "        f = interp1d(x, y[x], kind=kind, fill_value=np.nan, bounds_error=False)\n",
    "\n",
    "        # Fill missing\n",
    "        xq = np.flatnonzero(np.isnan(y))\n",
    "        y[xq] = f(xq)\n",
    "        \n",
    "        # Fill leading or trailing NaNs with the nearest non-NaN values\n",
    "        mask = np.isnan(y)\n",
    "        y[mask] = np.interp(np.flatnonzero(mask), np.flatnonzero(~mask), y[~mask])\n",
    "\n",
    "        # Save slice\n",
    "        Y[:, i] = y\n",
    "\n",
    "    # Restore to initial shape.\n",
    "    Y = Y.reshape(initial_shape)\n",
    "\n",
    "    return Y"
   ]
  },
  {
   "cell_type": "code",
   "execution_count": 10,
   "metadata": {},
   "outputs": [],
   "source": [
    "def compute_velocity(node_loc, window_size=25, polynomial_order=3):\n",
    "    \"\"\"\n",
    "    Calculate the velocity of tracked nodes from pose data.\n",
    "    \n",
    "    The function utilizes the Savitzky-Golay filter to smooth the data and compute the velocity.\n",
    "    \n",
    "    Parameters:\n",
    "    ----------\n",
    "    node_loc : numpy.ndarray\n",
    "        The location of nodes, represented as an array of shape [frames, 2]. \n",
    "        Each row represents x and y coordinates for a particular frame.\n",
    "        \n",
    "    window_size : int, optional\n",
    "        The size of the window used for the Savitzky-Golay filter. \n",
    "        Represents the number of consecutive data points used when smoothing the data.\n",
    "        Default is 25.\n",
    "        \n",
    "    polynomial_order : int, optional\n",
    "        The order of the polynomial fit to the data within the Savitzky-Golay filter window.\n",
    "        Default is 3.\n",
    "\n",
    "    Returns:\n",
    "    -------\n",
    "    numpy.ndarray\n",
    "        The velocity for each frame, calculated from the smoothed x and y coordinates.\n",
    "    \n",
    "    \"\"\"\n",
    "    node_loc_vel = np.zeros_like(node_loc)\n",
    "    \n",
    "    # For each coordinate (x and y), smooth the data and calculate the derivative (velocity)\n",
    "    for c in range(node_loc.shape[-1]):\n",
    "        node_loc_vel[:, c] = savgol_filter(node_loc[:, c], window_size, polynomial_order, deriv=1)\n",
    "    \n",
    "    # Calculate the magnitude of the velocity vectors for each frame\n",
    "    node_vel = np.linalg.norm(node_loc_vel, axis=1)\n",
    "\n",
    "    return node_vel"
   ]
  },
  {
   "cell_type": "code",
   "execution_count": 11,
   "metadata": {},
   "outputs": [],
   "source": [
    "def extract_sleap_data(filename):\n",
    "    \"\"\"\n",
    "    Extracts coordinates, names of body parts, and track names from a SLEAP file.\n",
    "    \n",
    "    Parameters:\n",
    "    - filename (str): Path to the SLEAP file.\n",
    "    \n",
    "    Returns:\n",
    "    - tuple: A tuple containing the following elements:\n",
    "        * locations (numpy.ndarray): Array containing the coordinates.\n",
    "        * node_names (list of str): List of body part names.\n",
    "        * track_names (list of str): List of track names.\n",
    "    \n",
    "    Example:\n",
    "    >>> locations, node_names, track_names = extract_sleap_data(\"path/to/sleap/file.h5\")\n",
    "    \"\"\"\n",
    "    result = {}\n",
    "    with h5py.File(filename, \"r\") as f:\n",
    "        result[\"locations\"] = f[\"tracks\"][:].T\n",
    "        result[\"node_names\"] = [n.decode() for n in f[\"node_names\"][:]]\n",
    "        result[\"track_names\"] = [n.decode() for n in f[\"track_names\"][:]]\n",
    "\n",
    "    return result"
   ]
  },
  {
   "cell_type": "code",
   "execution_count": 12,
   "metadata": {},
   "outputs": [],
   "source": [
    "def rescale_dimension_in_array(arr, dimension=0, ratio=1):\n",
    "    \"\"\"\n",
    "    Rescale values of a specified dimension in a 3D numpy array for the entire array.\n",
    "    \n",
    "    Parameters:\n",
    "    - arr (numpy.ndarray): A 3D numpy array where the third dimension is being rescaled.\n",
    "    - dimension (int, default=0): Specifies which dimension (0 or 1) of the third \n",
    "                                  dimension in the array should be rescaled. \n",
    "                                  For instance, in many contexts:\n",
    "                                  0 represents the x-coordinate, \n",
    "                                  1 represents the y-coordinate.\n",
    "    - ratio (float, default=1): The scaling factor to be applied.\n",
    "    \n",
    "    Returns:\n",
    "    - numpy.ndarray: The rescaled array.\n",
    "    \"\"\"\n",
    "    \n",
    "    arr[:,:,dimension] *= ratio\n",
    "    return arr"
   ]
  },
  {
   "cell_type": "code",
   "execution_count": 13,
   "metadata": {},
   "outputs": [],
   "source": [
    "def slice_and_zero(arr, frame_start, frame_end):\n",
    "    # Create an array of zeros with the same shape as the input array\n",
    "    result = np.zeros_like(arr)\n",
    "    \n",
    "    # Update the zeros array with the values from the input array slice\n",
    "    result[frame_start:frame_end] = arr[frame_start:frame_end]\n",
    "    \n",
    "    return result"
   ]
  },
  {
   "cell_type": "markdown",
   "metadata": {},
   "source": [
    "# Reading in the h5 files between recordings"
   ]
  },
  {
   "cell_type": "code",
   "execution_count": 14,
   "metadata": {},
   "outputs": [],
   "source": [
    "VIDEO_TO_FRAME_AND_SUBJECT_DF = VIDEO_TO_FRAME_AND_SUBJECT_DF.dropna(subset=\"start_frame\")"
   ]
  },
  {
   "cell_type": "code",
   "execution_count": 15,
   "metadata": {},
   "outputs": [
    {
     "data": {
      "text/html": [
       "<div>\n",
       "<style scoped>\n",
       "    .dataframe tbody tr th:only-of-type {\n",
       "        vertical-align: middle;\n",
       "    }\n",
       "\n",
       "    .dataframe tbody tr th {\n",
       "        vertical-align: top;\n",
       "    }\n",
       "\n",
       "    .dataframe thead th {\n",
       "        text-align: right;\n",
       "    }\n",
       "</style>\n",
       "<table border=\"1\" class=\"dataframe\">\n",
       "  <thead>\n",
       "    <tr style=\"text-align: right;\">\n",
       "      <th></th>\n",
       "      <th>file_path</th>\n",
       "      <th>start_frame</th>\n",
       "      <th>stop_frame</th>\n",
       "      <th>individual_subj</th>\n",
       "      <th>all_subj</th>\n",
       "    </tr>\n",
       "  </thead>\n",
       "  <tbody>\n",
       "    <tr>\n",
       "      <th>0</th>\n",
       "      <td>/scratch/back_up/reward_competition_extention/...</td>\n",
       "      <td>32792.0</td>\n",
       "      <td>68495.0</td>\n",
       "      <td>1.4</td>\n",
       "      <td>1.1_1.4</td>\n",
       "    </tr>\n",
       "    <tr>\n",
       "      <th>1</th>\n",
       "      <td>/scratch/back_up/reward_competition_extention/...</td>\n",
       "      <td>0.0</td>\n",
       "      <td>32316.0</td>\n",
       "      <td>1.1_1.4</td>\n",
       "      <td>1.1_1.4</td>\n",
       "    </tr>\n",
       "    <tr>\n",
       "      <th>2</th>\n",
       "      <td>/scratch/back_up/reward_competition_extention/...</td>\n",
       "      <td>32792.0</td>\n",
       "      <td>68495.0</td>\n",
       "      <td>1.1</td>\n",
       "      <td>1.1_1.4</td>\n",
       "    </tr>\n",
       "    <tr>\n",
       "      <th>4</th>\n",
       "      <td>/scratch/back_up/reward_competition_extention/...</td>\n",
       "      <td>32860.0</td>\n",
       "      <td>68288.0</td>\n",
       "      <td>1.2</td>\n",
       "      <td>1.1_1.2</td>\n",
       "    </tr>\n",
       "    <tr>\n",
       "      <th>5</th>\n",
       "      <td>/scratch/back_up/reward_competition_extention/...</td>\n",
       "      <td>2027.0</td>\n",
       "      <td>32240.0</td>\n",
       "      <td>1.1_1.2</td>\n",
       "      <td>1.1_1.2</td>\n",
       "    </tr>\n",
       "  </tbody>\n",
       "</table>\n",
       "</div>"
      ],
      "text/plain": [
       "                                           file_path  start_frame  stop_frame  \\\n",
       "0  /scratch/back_up/reward_competition_extention/...      32792.0     68495.0   \n",
       "1  /scratch/back_up/reward_competition_extention/...          0.0     32316.0   \n",
       "2  /scratch/back_up/reward_competition_extention/...      32792.0     68495.0   \n",
       "4  /scratch/back_up/reward_competition_extention/...      32860.0     68288.0   \n",
       "5  /scratch/back_up/reward_competition_extention/...       2027.0     32240.0   \n",
       "\n",
       "  individual_subj all_subj  \n",
       "0             1.4  1.1_1.4  \n",
       "1         1.1_1.4  1.1_1.4  \n",
       "2             1.1  1.1_1.4  \n",
       "4             1.2  1.1_1.2  \n",
       "5         1.1_1.2  1.1_1.2  "
      ]
     },
     "execution_count": 15,
     "metadata": {},
     "output_type": "execute_result"
    }
   ],
   "source": [
    "VIDEO_TO_FRAME_AND_SUBJECT_DF.head()"
   ]
  },
  {
   "cell_type": "code",
   "execution_count": 16,
   "metadata": {},
   "outputs": [],
   "source": [
    "# We will be indexing for the frames, so they must be integers and not floats\n",
    "VIDEO_TO_FRAME_AND_SUBJECT_DF[\"start_frame\"] = VIDEO_TO_FRAME_AND_SUBJECT_DF[\"start_frame\"].astype(int)\n",
    "VIDEO_TO_FRAME_AND_SUBJECT_DF[\"stop_frame\"] = VIDEO_TO_FRAME_AND_SUBJECT_DF[\"stop_frame\"].astype(int)"
   ]
  },
  {
   "cell_type": "code",
   "execution_count": 17,
   "metadata": {},
   "outputs": [],
   "source": [
    "# Getting the basename of the file which corresponds to the ephys recording that the h5 file came from\n",
    "VIDEO_TO_FRAME_AND_SUBJECT_DF[\"video_name\"] = VIDEO_TO_FRAME_AND_SUBJECT_DF[\"file_path\"].apply(lambda x: \".\".join(os.path.basename(x).split(\".\")[:2]))\n",
    "VIDEO_TO_FRAME_AND_SUBJECT_DF[\"recording_name\"] = VIDEO_TO_FRAME_AND_SUBJECT_DF[\"file_path\"].apply(lambda x: os.path.basename(x).split(\".\")[0])"
   ]
  },
  {
   "cell_type": "code",
   "execution_count": 18,
   "metadata": {},
   "outputs": [],
   "source": [
    "VIDEO_TO_FRAME_AND_SUBJECT_DF[\"all_sleap_data\"] = VIDEO_TO_FRAME_AND_SUBJECT_DF[\"file_path\"].apply(lambda x: extract_sleap_data(x))\n"
   ]
  },
  {
   "cell_type": "code",
   "execution_count": 19,
   "metadata": {},
   "outputs": [],
   "source": [
    "VIDEO_TO_FRAME_AND_SUBJECT_DF[\"locations\"] = VIDEO_TO_FRAME_AND_SUBJECT_DF[\"all_sleap_data\"].apply(lambda x: x[\"locations\"])"
   ]
  },
  {
   "cell_type": "code",
   "execution_count": 20,
   "metadata": {},
   "outputs": [],
   "source": [
    "VIDEO_TO_FRAME_AND_SUBJECT_DF[\"track_names\"] = VIDEO_TO_FRAME_AND_SUBJECT_DF[\"all_sleap_data\"].apply(lambda x: x[\"track_names\"])"
   ]
  },
  {
   "cell_type": "code",
   "execution_count": 21,
   "metadata": {},
   "outputs": [
    {
     "data": {
      "text/plain": [
       "0                                                [1.4]\n",
       "1    [1.1, 1.4, track_867, track_868, track_869, tr...\n",
       "2                                                [1.1]\n",
       "4                                                [1.2]\n",
       "5    [1.1, 1.2, track_16, track_18, track_40, track...\n",
       "6                                                [1.1]\n",
       "Name: track_names, dtype: object"
      ]
     },
     "execution_count": 21,
     "metadata": {},
     "output_type": "execute_result"
    }
   ],
   "source": [
    "VIDEO_TO_FRAME_AND_SUBJECT_DF[\"track_names\"]"
   ]
  },
  {
   "cell_type": "code",
   "execution_count": 22,
   "metadata": {},
   "outputs": [],
   "source": [
    "# Getting the coordinates of all the body parts for all the animals for the entire recording\n",
    "VIDEO_TO_FRAME_AND_SUBJECT_DF[\"locations\"] = VIDEO_TO_FRAME_AND_SUBJECT_DF[\"file_path\"].apply(lambda x: get_sleap_tracks_from_h5(x))\n",
    "# Getting the name of the tracks which correspond to the animal id\n",
    "VIDEO_TO_FRAME_AND_SUBJECT_DF[\"track_names\"] = VIDEO_TO_FRAME_AND_SUBJECT_DF[\"file_path\"].apply(lambda x: get_sleap_track_names_from_h5(x))"
   ]
  },
  {
   "cell_type": "code",
   "execution_count": 23,
   "metadata": {},
   "outputs": [
    {
     "data": {
      "text/plain": [
       "(68495, 6, 2, 1)"
      ]
     },
     "execution_count": 23,
     "metadata": {},
     "output_type": "execute_result"
    }
   ],
   "source": [
    "VIDEO_TO_FRAME_AND_SUBJECT_DF[\"locations\"].iloc[0].shape"
   ]
  },
  {
   "cell_type": "code",
   "execution_count": 24,
   "metadata": {},
   "outputs": [],
   "source": [
    "# Making sure all the subject IDs are strings instead of floating point numbers\n",
    "VIDEO_TO_FRAME_AND_SUBJECT_DF[\"individual_subj\"] = VIDEO_TO_FRAME_AND_SUBJECT_DF[\"individual_subj\"].astype(str)"
   ]
  },
  {
   "cell_type": "code",
   "execution_count": 25,
   "metadata": {},
   "outputs": [
    {
     "data": {
      "text/plain": [
       "0                                                [1.4]\n",
       "1    [1.1, 1.4, track_867, track_868, track_869, tr...\n",
       "2                                                [1.1]\n",
       "4                                                [1.2]\n",
       "5    [1.1, 1.2, track_16, track_18, track_40, track...\n",
       "6                                                [1.1]\n",
       "Name: track_names, dtype: object"
      ]
     },
     "execution_count": 25,
     "metadata": {},
     "output_type": "execute_result"
    }
   ],
   "source": [
    "VIDEO_TO_FRAME_AND_SUBJECT_DF[\"track_names\"]"
   ]
  },
  {
   "cell_type": "code",
   "execution_count": 26,
   "metadata": {},
   "outputs": [],
   "source": [
    "# Getting the indexes of each subject from the track list\n",
    "VIDEO_TO_FRAME_AND_SUBJECT_DF[\"subject_to_index\"] = VIDEO_TO_FRAME_AND_SUBJECT_DF.apply(lambda x: {k: x[\"track_names\"].index(k) for k in x[\"individual_subj\"].split(\"_\")}, axis=1)"
   ]
  },
  {
   "cell_type": "code",
   "execution_count": 27,
   "metadata": {},
   "outputs": [
    {
     "data": {
      "text/plain": [
       "0              {'1.4': 0}\n",
       "1    {'1.1': 0, '1.4': 1}\n",
       "2              {'1.1': 0}\n",
       "4              {'1.2': 0}\n",
       "5    {'1.1': 0, '1.2': 1}\n",
       "6              {'1.1': 0}\n",
       "Name: subject_to_index, dtype: object"
      ]
     },
     "execution_count": 27,
     "metadata": {},
     "output_type": "execute_result"
    }
   ],
   "source": [
    "VIDEO_TO_FRAME_AND_SUBJECT_DF[\"subject_to_index\"]"
   ]
  },
  {
   "cell_type": "code",
   "execution_count": 28,
   "metadata": {},
   "outputs": [],
   "source": [
    "VIDEO_TO_FRAME_AND_SUBJECT_DF[\"subject_to_tracks\"] = VIDEO_TO_FRAME_AND_SUBJECT_DF.apply(lambda x: {k:v for k, v in x[\"subject_to_index\"].items()}, axis=1)"
   ]
  },
  {
   "cell_type": "code",
   "execution_count": 29,
   "metadata": {},
   "outputs": [
    {
     "data": {
      "text/plain": [
       "0              {'1.4': 0}\n",
       "1    {'1.1': 0, '1.4': 1}\n",
       "2              {'1.1': 0}\n",
       "4              {'1.2': 0}\n",
       "5    {'1.1': 0, '1.2': 1}\n",
       "6              {'1.1': 0}\n",
       "Name: subject_to_tracks, dtype: object"
      ]
     },
     "execution_count": 29,
     "metadata": {},
     "output_type": "execute_result"
    }
   ],
   "source": [
    "VIDEO_TO_FRAME_AND_SUBJECT_DF[\"subject_to_tracks\"]"
   ]
  },
  {
   "cell_type": "code",
   "execution_count": 30,
   "metadata": {},
   "outputs": [],
   "source": [
    "VIDEO_TO_FRAME_AND_SUBJECT_DF[\"subject_to_tracks\"] = VIDEO_TO_FRAME_AND_SUBJECT_DF.apply(lambda x: {k: x[\"locations\"][:,:,:,v] for k, v in x[\"subject_to_index\"].items()}, axis=1)"
   ]
  },
  {
   "cell_type": "code",
   "execution_count": 31,
   "metadata": {},
   "outputs": [],
   "source": [
    "# Convert dictionary items to list of items\n",
    "VIDEO_TO_FRAME_AND_SUBJECT_DF[\"subject_to_tracks\"] = VIDEO_TO_FRAME_AND_SUBJECT_DF[\"subject_to_tracks\"].apply(lambda x: list(x.items()))"
   ]
  },
  {
   "cell_type": "code",
   "execution_count": 32,
   "metadata": {},
   "outputs": [],
   "source": [
    "# Explode based on the lists\n",
    "VIDEO_TO_FRAME_AND_SUBJECT_DF = VIDEO_TO_FRAME_AND_SUBJECT_DF.explode([\"subject_to_tracks\"]).reset_index(drop=True)"
   ]
  },
  {
   "cell_type": "code",
   "execution_count": 33,
   "metadata": {
    "scrolled": true
   },
   "outputs": [
    {
     "data": {
      "text/html": [
       "<div>\n",
       "<style scoped>\n",
       "    .dataframe tbody tr th:only-of-type {\n",
       "        vertical-align: middle;\n",
       "    }\n",
       "\n",
       "    .dataframe tbody tr th {\n",
       "        vertical-align: top;\n",
       "    }\n",
       "\n",
       "    .dataframe thead th {\n",
       "        text-align: right;\n",
       "    }\n",
       "</style>\n",
       "<table border=\"1\" class=\"dataframe\">\n",
       "  <thead>\n",
       "    <tr style=\"text-align: right;\">\n",
       "      <th></th>\n",
       "      <th>file_path</th>\n",
       "      <th>start_frame</th>\n",
       "      <th>stop_frame</th>\n",
       "      <th>individual_subj</th>\n",
       "      <th>all_subj</th>\n",
       "      <th>video_name</th>\n",
       "      <th>recording_name</th>\n",
       "      <th>all_sleap_data</th>\n",
       "      <th>locations</th>\n",
       "      <th>track_names</th>\n",
       "      <th>subject_to_index</th>\n",
       "      <th>subject_to_tracks</th>\n",
       "    </tr>\n",
       "  </thead>\n",
       "  <tbody>\n",
       "    <tr>\n",
       "      <th>0</th>\n",
       "      <td>/scratch/back_up/reward_competition_extention/...</td>\n",
       "      <td>32792</td>\n",
       "      <td>68495</td>\n",
       "      <td>1.4</td>\n",
       "      <td>1.1_1.4</td>\n",
       "      <td>20230618_100636_standard_comp_to_omission_D2_s...</td>\n",
       "      <td>20230618_100636_standard_comp_to_omission_D2_s...</td>\n",
       "      <td>{'locations': [[[[340.27038574]\n",
       " [388.14276123...</td>\n",
       "      <td>[[[[340.27038574], [388.14276123]], [[324.3432...</td>\n",
       "      <td>[1.4]</td>\n",
       "      <td>{'1.4': 0}</td>\n",
       "      <td>(1.4, [[[340.27038574 388.14276123], [324.3432...</td>\n",
       "    </tr>\n",
       "    <tr>\n",
       "      <th>1</th>\n",
       "      <td>/scratch/back_up/reward_competition_extention/...</td>\n",
       "      <td>0</td>\n",
       "      <td>32316</td>\n",
       "      <td>1.1_1.4</td>\n",
       "      <td>1.1_1.4</td>\n",
       "      <td>20230618_100636_standard_comp_to_omission_D2_s...</td>\n",
       "      <td>20230618_100636_standard_comp_to_omission_D2_s...</td>\n",
       "      <td>{'locations': [[[[340.27038574 227.90209961   ...</td>\n",
       "      <td>[[[[340.27038574 227.90209961          nan    ...</td>\n",
       "      <td>[1.1, 1.4, track_867, track_868, track_869, tr...</td>\n",
       "      <td>{'1.1': 0, '1.4': 1}</td>\n",
       "      <td>(1.1, [[[340.27038574 388.14276123], [324.3432...</td>\n",
       "    </tr>\n",
       "    <tr>\n",
       "      <th>2</th>\n",
       "      <td>/scratch/back_up/reward_competition_extention/...</td>\n",
       "      <td>0</td>\n",
       "      <td>32316</td>\n",
       "      <td>1.1_1.4</td>\n",
       "      <td>1.1_1.4</td>\n",
       "      <td>20230618_100636_standard_comp_to_omission_D2_s...</td>\n",
       "      <td>20230618_100636_standard_comp_to_omission_D2_s...</td>\n",
       "      <td>{'locations': [[[[340.27038574 227.90209961   ...</td>\n",
       "      <td>[[[[340.27038574 227.90209961          nan    ...</td>\n",
       "      <td>[1.1, 1.4, track_867, track_868, track_869, tr...</td>\n",
       "      <td>{'1.1': 0, '1.4': 1}</td>\n",
       "      <td>(1.4, [[[227.90209961 336.52835083], [243.5521...</td>\n",
       "    </tr>\n",
       "    <tr>\n",
       "      <th>3</th>\n",
       "      <td>/scratch/back_up/reward_competition_extention/...</td>\n",
       "      <td>32792</td>\n",
       "      <td>68495</td>\n",
       "      <td>1.1</td>\n",
       "      <td>1.1_1.4</td>\n",
       "      <td>20230618_100636_standard_comp_to_omission_D2_s...</td>\n",
       "      <td>20230618_100636_standard_comp_to_omission_D2_s...</td>\n",
       "      <td>{'locations': [[[[nan]\n",
       " [nan]], [[nan]\n",
       " [nan]]...</td>\n",
       "      <td>[[[[nan], [nan]], [[nan], [nan]], [[nan], [nan...</td>\n",
       "      <td>[1.1]</td>\n",
       "      <td>{'1.1': 0}</td>\n",
       "      <td>(1.1, [[[nan nan], [nan nan], [nan nan], [nan ...</td>\n",
       "    </tr>\n",
       "    <tr>\n",
       "      <th>4</th>\n",
       "      <td>/scratch/back_up/reward_competition_extention/...</td>\n",
       "      <td>32860</td>\n",
       "      <td>68288</td>\n",
       "      <td>1.2</td>\n",
       "      <td>1.1_1.2</td>\n",
       "      <td>20230620_114347_standard_comp_to_omission_D4_s...</td>\n",
       "      <td>20230620_114347_standard_comp_to_omission_D4_s...</td>\n",
       "      <td>{'locations': [[[[303.96658325]\n",
       " [368.13119507...</td>\n",
       "      <td>[[[[303.96658325], [368.13119507]], [[299.8300...</td>\n",
       "      <td>[1.2]</td>\n",
       "      <td>{'1.2': 0}</td>\n",
       "      <td>(1.2, [[[303.96658325 368.13119507], [299.8300...</td>\n",
       "    </tr>\n",
       "  </tbody>\n",
       "</table>\n",
       "</div>"
      ],
      "text/plain": [
       "                                           file_path  start_frame  stop_frame  \\\n",
       "0  /scratch/back_up/reward_competition_extention/...        32792       68495   \n",
       "1  /scratch/back_up/reward_competition_extention/...            0       32316   \n",
       "2  /scratch/back_up/reward_competition_extention/...            0       32316   \n",
       "3  /scratch/back_up/reward_competition_extention/...        32792       68495   \n",
       "4  /scratch/back_up/reward_competition_extention/...        32860       68288   \n",
       "\n",
       "  individual_subj all_subj                                         video_name  \\\n",
       "0             1.4  1.1_1.4  20230618_100636_standard_comp_to_omission_D2_s...   \n",
       "1         1.1_1.4  1.1_1.4  20230618_100636_standard_comp_to_omission_D2_s...   \n",
       "2         1.1_1.4  1.1_1.4  20230618_100636_standard_comp_to_omission_D2_s...   \n",
       "3             1.1  1.1_1.4  20230618_100636_standard_comp_to_omission_D2_s...   \n",
       "4             1.2  1.1_1.2  20230620_114347_standard_comp_to_omission_D4_s...   \n",
       "\n",
       "                                      recording_name  \\\n",
       "0  20230618_100636_standard_comp_to_omission_D2_s...   \n",
       "1  20230618_100636_standard_comp_to_omission_D2_s...   \n",
       "2  20230618_100636_standard_comp_to_omission_D2_s...   \n",
       "3  20230618_100636_standard_comp_to_omission_D2_s...   \n",
       "4  20230620_114347_standard_comp_to_omission_D4_s...   \n",
       "\n",
       "                                      all_sleap_data  \\\n",
       "0  {'locations': [[[[340.27038574]\n",
       " [388.14276123...   \n",
       "1  {'locations': [[[[340.27038574 227.90209961   ...   \n",
       "2  {'locations': [[[[340.27038574 227.90209961   ...   \n",
       "3  {'locations': [[[[nan]\n",
       " [nan]], [[nan]\n",
       " [nan]]...   \n",
       "4  {'locations': [[[[303.96658325]\n",
       " [368.13119507...   \n",
       "\n",
       "                                           locations  \\\n",
       "0  [[[[340.27038574], [388.14276123]], [[324.3432...   \n",
       "1  [[[[340.27038574 227.90209961          nan    ...   \n",
       "2  [[[[340.27038574 227.90209961          nan    ...   \n",
       "3  [[[[nan], [nan]], [[nan], [nan]], [[nan], [nan...   \n",
       "4  [[[[303.96658325], [368.13119507]], [[299.8300...   \n",
       "\n",
       "                                         track_names      subject_to_index  \\\n",
       "0                                              [1.4]            {'1.4': 0}   \n",
       "1  [1.1, 1.4, track_867, track_868, track_869, tr...  {'1.1': 0, '1.4': 1}   \n",
       "2  [1.1, 1.4, track_867, track_868, track_869, tr...  {'1.1': 0, '1.4': 1}   \n",
       "3                                              [1.1]            {'1.1': 0}   \n",
       "4                                              [1.2]            {'1.2': 0}   \n",
       "\n",
       "                                   subject_to_tracks  \n",
       "0  (1.4, [[[340.27038574 388.14276123], [324.3432...  \n",
       "1  (1.1, [[[340.27038574 388.14276123], [324.3432...  \n",
       "2  (1.4, [[[227.90209961 336.52835083], [243.5521...  \n",
       "3  (1.1, [[[nan nan], [nan nan], [nan nan], [nan ...  \n",
       "4  (1.2, [[[303.96658325 368.13119507], [299.8300...  "
      ]
     },
     "execution_count": 33,
     "metadata": {},
     "output_type": "execute_result"
    }
   ],
   "source": [
    "VIDEO_TO_FRAME_AND_SUBJECT_DF.head()"
   ]
  },
  {
   "cell_type": "code",
   "execution_count": 34,
   "metadata": {},
   "outputs": [],
   "source": [
    "# Split tuple of (key, value) into separate columns\n",
    "VIDEO_TO_FRAME_AND_SUBJECT_DF[['subject_id', 'subject_locations']] = pd.DataFrame(VIDEO_TO_FRAME_AND_SUBJECT_DF[\"subject_to_tracks\"].tolist(), index=VIDEO_TO_FRAME_AND_SUBJECT_DF.index)"
   ]
  },
  {
   "cell_type": "code",
   "execution_count": 35,
   "metadata": {},
   "outputs": [],
   "source": [
    "VIDEO_TO_FRAME_AND_SUBJECT_DF = VIDEO_TO_FRAME_AND_SUBJECT_DF.drop(columns=[\"subject_to_tracks\"])"
   ]
  },
  {
   "cell_type": "code",
   "execution_count": 36,
   "metadata": {},
   "outputs": [
    {
     "data": {
      "text/plain": [
       "0    1.4\n",
       "1    1.1\n",
       "2    1.4\n",
       "3    1.1\n",
       "4    1.2\n",
       "5    1.1\n",
       "6    1.2\n",
       "7    1.1\n",
       "Name: subject_id, dtype: object"
      ]
     },
     "execution_count": 36,
     "metadata": {},
     "output_type": "execute_result"
    }
   ],
   "source": [
    "VIDEO_TO_FRAME_AND_SUBJECT_DF[\"subject_id\"]"
   ]
  },
  {
   "cell_type": "code",
   "execution_count": 37,
   "metadata": {},
   "outputs": [],
   "source": [
    "VIDEO_TO_FRAME_AND_SUBJECT_DF[\"subject_locations\"] = VIDEO_TO_FRAME_AND_SUBJECT_DF[\"subject_locations\"].apply(lambda x: fill_missing(x))"
   ]
  },
  {
   "cell_type": "markdown",
   "metadata": {},
   "source": [
    "## Getting the coordinates of the corners"
   ]
  },
  {
   "cell_type": "code",
   "execution_count": 38,
   "metadata": {},
   "outputs": [
    {
     "data": {
      "text/plain": [
       "'/scratch/back_up/reward_competition_extention/proc/id_corrected/20230618_100636_standard_comp_to_omission_D2_subj_1-4_and_1-1/20230618_100636_standard_comp_to_omission_D2_subj_1-4_and_1-1.1.fixed.1_subj.round_1.id_corrected.h5'"
      ]
     },
     "execution_count": 38,
     "metadata": {},
     "output_type": "execute_result"
    }
   ],
   "source": [
    "VIDEO_TO_FRAME_AND_SUBJECT_DF[\"file_path\"].iloc[0]"
   ]
  },
  {
   "cell_type": "code",
   "execution_count": 39,
   "metadata": {},
   "outputs": [],
   "source": [
    "# Each corner file is the in the same folder and has the same basename of the pose tracking file \n",
    "VIDEO_TO_FRAME_AND_SUBJECT_DF[\"corner_path\"] = VIDEO_TO_FRAME_AND_SUBJECT_DF[\"file_path\"].apply(lambda x: \"{}.fixed.corner.h5\".format(x.split(\"fixed\")[0].strip(\".\")))"
   ]
  },
  {
   "cell_type": "code",
   "execution_count": 40,
   "metadata": {},
   "outputs": [
    {
     "data": {
      "text/plain": [
       "'/scratch/back_up/reward_competition_extention/proc/id_corrected/20230618_100636_standard_comp_to_omission_D2_subj_1-4_and_1-1/20230618_100636_standard_comp_to_omission_D2_subj_1-4_and_1-1.1.fixed.corner.h5'"
      ]
     },
     "execution_count": 40,
     "metadata": {},
     "output_type": "execute_result"
    }
   ],
   "source": [
    "VIDEO_TO_FRAME_AND_SUBJECT_DF[\"corner_path\"].iloc[0]"
   ]
  },
  {
   "cell_type": "code",
   "execution_count": 41,
   "metadata": {},
   "outputs": [],
   "source": [
    "# Getting the indexes of each corner location\n",
    "VIDEO_TO_FRAME_AND_SUBJECT_DF[\"corner_parts\"] = VIDEO_TO_FRAME_AND_SUBJECT_DF[\"corner_path\"].apply(lambda x: get_node_names_from_sleap(x))"
   ]
  },
  {
   "cell_type": "code",
   "execution_count": 42,
   "metadata": {},
   "outputs": [
    {
     "data": {
      "text/plain": [
       "0    [box_top_left, box_bottom_right, box_bottom_le...\n",
       "1    [box_top_left, box_bottom_right, box_bottom_le...\n",
       "2    [box_top_left, box_bottom_right, box_bottom_le...\n",
       "3    [box_top_left, box_bottom_right, box_bottom_le...\n",
       "4    [reward_port, box_top_left, box_bottom_right, ...\n",
       "5    [reward_port, box_top_left, box_bottom_right, ...\n",
       "6    [reward_port, box_top_left, box_bottom_right, ...\n",
       "7    [reward_port, box_top_left, box_bottom_right, ...\n",
       "Name: corner_parts, dtype: object"
      ]
     },
     "execution_count": 42,
     "metadata": {},
     "output_type": "execute_result"
    }
   ],
   "source": [
    "VIDEO_TO_FRAME_AND_SUBJECT_DF[\"corner_parts\"]"
   ]
  },
  {
   "cell_type": "code",
   "execution_count": 43,
   "metadata": {},
   "outputs": [],
   "source": [
    "# Getting the coordinates of all the corners\n",
    "VIDEO_TO_FRAME_AND_SUBJECT_DF[\"corner_to_coordinate\"] = VIDEO_TO_FRAME_AND_SUBJECT_DF[\"corner_path\"].apply(lambda x: get_sleap_tracks_from_h5(x))"
   ]
  },
  {
   "cell_type": "code",
   "execution_count": 44,
   "metadata": {},
   "outputs": [],
   "source": [
    "# Parsing out each corner and creating a dictionary of name to coordinates\n",
    "VIDEO_TO_FRAME_AND_SUBJECT_DF[\"corner_to_coordinate\"] = VIDEO_TO_FRAME_AND_SUBJECT_DF.apply(lambda x: {part: x[\"corner_to_coordinate\"][:,index,:,:] for index, part in enumerate(x[\"corner_parts\"])}, axis=1)"
   ]
  },
  {
   "cell_type": "code",
   "execution_count": 45,
   "metadata": {},
   "outputs": [],
   "source": [
    "# Filtering out all the Nans because there's only one labeled frame\n",
    "VIDEO_TO_FRAME_AND_SUBJECT_DF[\"corner_to_coordinate\"] = VIDEO_TO_FRAME_AND_SUBJECT_DF.apply(lambda x: {k: v[~np.isnan(v)] for k, v in x[\"corner_to_coordinate\"].items()}, axis=1)"
   ]
  },
  {
   "cell_type": "code",
   "execution_count": 46,
   "metadata": {},
   "outputs": [
    {
     "data": {
      "text/plain": [
       "0    {'box_top_left': [210.30936448661504, 125.0467...\n",
       "1    {'box_top_left': [210.30936448661504, 125.0467...\n",
       "2    {'box_top_left': [210.30936448661504, 125.0467...\n",
       "3    {'box_top_left': [236.38150141547158, 131.2095...\n",
       "4    {'reward_port': [324.08885973592385, 405.86618...\n",
       "5    {'reward_port': [324.08885973592385, 405.86618...\n",
       "6    {'reward_port': [324.08885973592385, 405.86618...\n",
       "7    {'reward_port': [340.03875718352816, 408.11416...\n",
       "Name: corner_to_coordinate, dtype: object"
      ]
     },
     "execution_count": 46,
     "metadata": {},
     "output_type": "execute_result"
    }
   ],
   "source": [
    "VIDEO_TO_FRAME_AND_SUBJECT_DF[\"corner_to_coordinate\"]"
   ]
  },
  {
   "cell_type": "code",
   "execution_count": 47,
   "metadata": {},
   "outputs": [
    {
     "data": {
      "text/plain": [
       "{'reward_port': array([324.08885974, 405.86618442]),\n",
       " 'box_top_left': array([209.01820611, 120.42661182]),\n",
       " 'box_bottom_right': array([433.18591187, 381.64613662]),\n",
       " 'box_bottom_left': array([218.94806421, 388.54962778]),\n",
       " 'box_top_right': array([424.07586736, 116.63573947])}"
      ]
     },
     "execution_count": 47,
     "metadata": {},
     "output_type": "execute_result"
    }
   ],
   "source": [
    "VIDEO_TO_FRAME_AND_SUBJECT_DF[\"corner_to_coordinate\"].iloc[5]"
   ]
  },
  {
   "cell_type": "markdown",
   "metadata": {},
   "source": [
    "# Getting the distances between corners"
   ]
  },
  {
   "cell_type": "markdown",
   "metadata": {},
   "source": [
    "- Getting the average width and height so that we can convert pixels to cm"
   ]
  },
  {
   "cell_type": "code",
   "execution_count": 48,
   "metadata": {},
   "outputs": [],
   "source": [
    "# Using the x-coordinates for the width\n",
    "VIDEO_TO_FRAME_AND_SUBJECT_DF[\"bottom_width\"] = VIDEO_TO_FRAME_AND_SUBJECT_DF[\"corner_to_coordinate\"].apply(lambda x: x[\"box_bottom_right\"][0] - x[\"box_bottom_left\"][0])\n",
    "VIDEO_TO_FRAME_AND_SUBJECT_DF[\"top_width\"] = VIDEO_TO_FRAME_AND_SUBJECT_DF[\"corner_to_coordinate\"].apply(lambda x: x[\"box_top_right\"][0] - x[\"box_top_left\"][0])\n"
   ]
  },
  {
   "cell_type": "code",
   "execution_count": 49,
   "metadata": {},
   "outputs": [],
   "source": [
    "# Using the y-coordinates for the height\n",
    "VIDEO_TO_FRAME_AND_SUBJECT_DF[\"right_height\"] = VIDEO_TO_FRAME_AND_SUBJECT_DF[\"corner_to_coordinate\"].apply(lambda x: x[\"box_bottom_right\"][1] - x[\"box_top_right\"][1])\n",
    "VIDEO_TO_FRAME_AND_SUBJECT_DF[\"left_height\"] = VIDEO_TO_FRAME_AND_SUBJECT_DF[\"corner_to_coordinate\"].apply(lambda x: x[\"box_bottom_left\"][1] - x[\"box_top_left\"][1])\n"
   ]
  },
  {
   "cell_type": "code",
   "execution_count": 50,
   "metadata": {},
   "outputs": [],
   "source": [
    "# averaging the width and height by adding both sides and then getting the mean\n",
    "VIDEO_TO_FRAME_AND_SUBJECT_DF[\"average_height\"] = VIDEO_TO_FRAME_AND_SUBJECT_DF.apply(lambda row: (row[\"right_height\"] + row[\"left_height\"])/2, axis=1)\n",
    "VIDEO_TO_FRAME_AND_SUBJECT_DF[\"average_width\"] = VIDEO_TO_FRAME_AND_SUBJECT_DF.apply(lambda row: (row[\"bottom_width\"] + row[\"top_width\"])/2, axis=1)"
   ]
  },
  {
   "cell_type": "markdown",
   "metadata": {},
   "source": [
    "- Getthing the pixel to cm ratio"
   ]
  },
  {
   "cell_type": "code",
   "execution_count": 51,
   "metadata": {},
   "outputs": [],
   "source": [
    "VIDEO_TO_FRAME_AND_SUBJECT_DF[\"width_ratio\"] = MED_PC_WIDTH / VIDEO_TO_FRAME_AND_SUBJECT_DF[\"average_width\"]\n",
    "VIDEO_TO_FRAME_AND_SUBJECT_DF[\"height_ratio\"] = MED_PC_HEIGHT / VIDEO_TO_FRAME_AND_SUBJECT_DF[\"average_height\"]"
   ]
  },
  {
   "cell_type": "code",
   "execution_count": 52,
   "metadata": {},
   "outputs": [
    {
     "data": {
      "text/plain": [
       "0    0.092440\n",
       "1    0.092440\n",
       "2    0.092440\n",
       "3    0.093061\n",
       "4    0.090034\n",
       "5    0.090034\n",
       "6    0.090034\n",
       "7    0.092571\n",
       "Name: height_ratio, dtype: float64"
      ]
     },
     "execution_count": 52,
     "metadata": {},
     "output_type": "execute_result"
    }
   ],
   "source": [
    "VIDEO_TO_FRAME_AND_SUBJECT_DF[\"height_ratio\"]"
   ]
  },
  {
   "cell_type": "code",
   "execution_count": 53,
   "metadata": {},
   "outputs": [
    {
     "data": {
      "text/plain": [
       "0    0.137652\n",
       "1    0.137652\n",
       "2    0.137652\n",
       "3    0.140174\n",
       "4    0.137434\n",
       "5    0.137434\n",
       "6    0.137434\n",
       "7    0.140108\n",
       "Name: width_ratio, dtype: float64"
      ]
     },
     "execution_count": 53,
     "metadata": {},
     "output_type": "execute_result"
    }
   ],
   "source": [
    "VIDEO_TO_FRAME_AND_SUBJECT_DF[\"width_ratio\"]"
   ]
  },
  {
   "cell_type": "markdown",
   "metadata": {},
   "source": [
    "## Converting Pixels to cm"
   ]
  },
  {
   "cell_type": "code",
   "execution_count": 54,
   "metadata": {},
   "outputs": [
    {
     "data": {
      "text/plain": [
       "(68495, 6, 2)"
      ]
     },
     "execution_count": 54,
     "metadata": {},
     "output_type": "execute_result"
    }
   ],
   "source": [
    "VIDEO_TO_FRAME_AND_SUBJECT_DF[\"subject_locations\"][0].shape"
   ]
  },
  {
   "cell_type": "markdown",
   "metadata": {},
   "source": [
    "- Converting the X-dimension"
   ]
  },
  {
   "cell_type": "code",
   "execution_count": 55,
   "metadata": {},
   "outputs": [],
   "source": [
    "VIDEO_TO_FRAME_AND_SUBJECT_DF[\"rescaled_locations\"] = VIDEO_TO_FRAME_AND_SUBJECT_DF.apply(lambda x: rescale_dimension_in_array(x[\"subject_locations\"], dimension=0, ratio=x[\"width_ratio\"]), axis=1)"
   ]
  },
  {
   "cell_type": "markdown",
   "metadata": {},
   "source": [
    "- Converting the Y-dimension"
   ]
  },
  {
   "cell_type": "code",
   "execution_count": 56,
   "metadata": {},
   "outputs": [],
   "source": [
    "VIDEO_TO_FRAME_AND_SUBJECT_DF[\"rescaled_locations\"] = VIDEO_TO_FRAME_AND_SUBJECT_DF.apply(lambda x: rescale_dimension_in_array(x[\"rescaled_locations\"], dimension=1, ratio=x[\"height_ratio\"]), axis=1)"
   ]
  },
  {
   "cell_type": "code",
   "execution_count": 57,
   "metadata": {},
   "outputs": [
    {
     "data": {
      "text/plain": [
       "0    {'box_top_left': [210.30936448661504, 125.0467...\n",
       "1    {'box_top_left': [210.30936448661504, 125.0467...\n",
       "2    {'box_top_left': [210.30936448661504, 125.0467...\n",
       "3    {'box_top_left': [236.38150141547158, 131.2095...\n",
       "4    {'reward_port': [324.08885973592385, 405.86618...\n",
       "5    {'reward_port': [324.08885973592385, 405.86618...\n",
       "6    {'reward_port': [324.08885973592385, 405.86618...\n",
       "7    {'reward_port': [340.03875718352816, 408.11416...\n",
       "Name: corner_to_coordinate, dtype: object"
      ]
     },
     "execution_count": 57,
     "metadata": {},
     "output_type": "execute_result"
    }
   ],
   "source": [
    "VIDEO_TO_FRAME_AND_SUBJECT_DF[\"corner_to_coordinate\"]"
   ]
  },
  {
   "cell_type": "code",
   "execution_count": 58,
   "metadata": {},
   "outputs": [],
   "source": [
    "# Normalize dictionary column\n",
    "normalized = pd.json_normalize(VIDEO_TO_FRAME_AND_SUBJECT_DF[\"corner_to_coordinate\"])\n",
    "\n",
    "# Drop the original column and concat the normalized DataFrame\n",
    "VIDEO_TO_FRAME_AND_SUBJECT_DF = pd.concat([VIDEO_TO_FRAME_AND_SUBJECT_DF.drop([\"corner_to_coordinate\"], axis=1), normalized], axis=1)\n"
   ]
  },
  {
   "cell_type": "code",
   "execution_count": 59,
   "metadata": {},
   "outputs": [],
   "source": [
    "for corner in VIDEO_TO_FRAME_AND_SUBJECT_DF[\"corner_parts\"].iloc[0]:\n",
    "    VIDEO_TO_FRAME_AND_SUBJECT_DF[corner] = VIDEO_TO_FRAME_AND_SUBJECT_DF.apply(lambda x: [x[corner][0]*x[\"width_ratio\"], x[corner][1]*x[\"height_ratio\"]], axis=1)"
   ]
  },
  {
   "cell_type": "code",
   "execution_count": 60,
   "metadata": {},
   "outputs": [],
   "source": [
    "VIDEO_TO_FRAME_AND_SUBJECT_DF[\"box_bottom_left\"] = VIDEO_TO_FRAME_AND_SUBJECT_DF.apply(lambda x: [x[\"box_bottom_left\"][0]*x[\"width_ratio\"], x[\"box_bottom_left\"][1]*x[\"height_ratio\"]], axis=1)"
   ]
  },
  {
   "cell_type": "markdown",
   "metadata": {},
   "source": [
    "## Looking over the tracks"
   ]
  },
  {
   "cell_type": "code",
   "execution_count": 61,
   "metadata": {},
   "outputs": [],
   "source": [
    "FILE_INDEX = 0"
   ]
  },
  {
   "cell_type": "code",
   "execution_count": 62,
   "metadata": {},
   "outputs": [
    {
     "data": {
      "text/plain": [
       "'/scratch/back_up/reward_competition_extention/proc/id_corrected/20230618_100636_standard_comp_to_omission_D2_subj_1-4_and_1-1/20230618_100636_standard_comp_to_omission_D2_subj_1-4_and_1-1.1.fixed.1_subj.round_1.id_corrected.h5'"
      ]
     },
     "execution_count": 62,
     "metadata": {},
     "output_type": "execute_result"
    }
   ],
   "source": [
    "VIDEO_TO_FRAME_AND_SUBJECT_DF[\"file_path\"].iloc[FILE_INDEX]"
   ]
  },
  {
   "cell_type": "code",
   "execution_count": 63,
   "metadata": {},
   "outputs": [
    {
     "name": "stdout",
     "output_type": "stream",
     "text": [
      "===HDF5 datasets===\n",
      "['edge_inds', 'edge_names', 'instance_scores', 'labels_path', 'node_names', 'point_scores', 'provenance', 'track_names', 'track_occupancy', 'tracking_scores', 'tracks', 'video_ind', 'video_path']\n",
      "\n",
      "===locations data shape===\n",
      "(68495, 6, 2)\n",
      "\n",
      "===nodes===\n",
      "0: left_ear\n",
      "1: right_ear\n",
      "2: nose\n",
      "3: tail_base\n",
      "4: thorax\n",
      "5: forehead\n",
      "\n"
     ]
    }
   ],
   "source": [
    "with h5py.File(VIDEO_TO_FRAME_AND_SUBJECT_DF[\"file_path\"].iloc[FILE_INDEX], \"r\") as f:\n",
    "    dset_names = list(f.keys())\n",
    "    locations = VIDEO_TO_FRAME_AND_SUBJECT_DF[\"rescaled_locations\"].iloc[FILE_INDEX]\n",
    "    node_names = [n.decode() for n in f[\"node_names\"][:]]\n",
    "    \n",
    "print(\"===HDF5 datasets===\")\n",
    "print(dset_names)\n",
    "print()\n",
    "\n",
    "print(\"===locations data shape===\")\n",
    "print(locations.shape)\n",
    "print()\n",
    "\n",
    "print(\"===nodes===\")\n",
    "for i, name in enumerate(node_names):\n",
    "    print(f\"{i}: {name}\")\n",
    "print()"
   ]
  },
  {
   "cell_type": "code",
   "execution_count": 64,
   "metadata": {},
   "outputs": [],
   "source": [
    "thorax_loc = locations[:, THORAX_INDEX, :]"
   ]
  },
  {
   "cell_type": "code",
   "execution_count": 65,
   "metadata": {},
   "outputs": [
    {
     "data": {
      "text/plain": [
       "Text(0, 0.5, 'Coordinate Position')"
      ]
     },
     "execution_count": 65,
     "metadata": {},
     "output_type": "execute_result"
    },
    {
     "data": {
      "image/png": "[encoded data removed]",
      "text/plain": [
       "<Figure size 1500x600 with 1 Axes>"
      ]
     },
     "metadata": {},
     "output_type": "display_data"
    }
   ],
   "source": [
    "fig, ax = plt.subplots()\n",
    "\n",
    "plt.plot(thorax_loc[:,0],label='X-coordinates')\n",
    "# Converting to negative so that we can see both x and y track\n",
    "plt.plot(-1*thorax_loc[:,1], label='Y-coordinates')\n",
    "\n",
    "plt.legend(loc=\"center right\")\n",
    "plt.title('Thorax locations')\n",
    "plt.xlabel(\"Time in frames\")\n",
    "plt.ylabel(\"Coordinate Position\")"
   ]
  },
  {
   "cell_type": "code",
   "execution_count": 66,
   "metadata": {},
   "outputs": [
    {
     "data": {
      "text/plain": [
       "Text(0, 0.5, 'Y-Coordinates')"
      ]
     },
     "execution_count": 66,
     "metadata": {},
     "output_type": "execute_result"
    },
    {
     "data": {
      "image/png": "[encoded data removed]",
      "text/plain": [
       "<Figure size 700x700 with 1 Axes>"
      ]
     },
     "metadata": {},
     "output_type": "display_data"
    }
   ],
   "source": [
    "plt.figure(figsize=(7,7))\n",
    "plt.plot(thorax_loc[:,0],thorax_loc[:,1])\n",
    "\n",
    "\n",
    "plt.title('Thorax tracks')\n",
    "plt.xlabel(\"X-Coordinates\")\n",
    "plt.ylabel(\"Y-Coordinates\")\n"
   ]
  },
  {
   "cell_type": "code",
   "execution_count": 67,
   "metadata": {},
   "outputs": [
    {
     "data": {
      "text/plain": [
       "(68495, 6, 2)"
      ]
     },
     "execution_count": 67,
     "metadata": {},
     "output_type": "execute_result"
    }
   ],
   "source": [
    "VIDEO_TO_FRAME_AND_SUBJECT_DF[\"rescaled_locations\"].iloc[0].shape"
   ]
  },
  {
   "cell_type": "code",
   "execution_count": 68,
   "metadata": {},
   "outputs": [
    {
     "data": {
      "text/html": [
       "<div>\n",
       "<style scoped>\n",
       "    .dataframe tbody tr th:only-of-type {\n",
       "        vertical-align: middle;\n",
       "    }\n",
       "\n",
       "    .dataframe tbody tr th {\n",
       "        vertical-align: top;\n",
       "    }\n",
       "\n",
       "    .dataframe thead th {\n",
       "        text-align: right;\n",
       "    }\n",
       "</style>\n",
       "<table border=\"1\" class=\"dataframe\">\n",
       "  <thead>\n",
       "    <tr style=\"text-align: right;\">\n",
       "      <th></th>\n",
       "      <th>file_path</th>\n",
       "      <th>start_frame</th>\n",
       "      <th>stop_frame</th>\n",
       "      <th>individual_subj</th>\n",
       "      <th>all_subj</th>\n",
       "      <th>video_name</th>\n",
       "      <th>recording_name</th>\n",
       "      <th>all_sleap_data</th>\n",
       "      <th>locations</th>\n",
       "      <th>track_names</th>\n",
       "      <th>...</th>\n",
       "      <th>average_height</th>\n",
       "      <th>average_width</th>\n",
       "      <th>width_ratio</th>\n",
       "      <th>height_ratio</th>\n",
       "      <th>rescaled_locations</th>\n",
       "      <th>box_top_left</th>\n",
       "      <th>box_bottom_right</th>\n",
       "      <th>box_bottom_left</th>\n",
       "      <th>box_top_right</th>\n",
       "      <th>reward_port</th>\n",
       "    </tr>\n",
       "  </thead>\n",
       "  <tbody>\n",
       "    <tr>\n",
       "      <th>0</th>\n",
       "      <td>/scratch/back_up/reward_competition_extention/...</td>\n",
       "      <td>32792</td>\n",
       "      <td>68495</td>\n",
       "      <td>1.4</td>\n",
       "      <td>1.1_1.4</td>\n",
       "      <td>20230618_100636_standard_comp_to_omission_D2_s...</td>\n",
       "      <td>20230618_100636_standard_comp_to_omission_D2_s...</td>\n",
       "      <td>{'locations': [[[[340.27038574]\n",
       " [388.14276123...</td>\n",
       "      <td>[[[[340.27038574], [388.14276123]], [[324.3432...</td>\n",
       "      <td>[1.4]</td>\n",
       "      <td>...</td>\n",
       "      <td>259.628858</td>\n",
       "      <td>214.308233</td>\n",
       "      <td>0.137652</td>\n",
       "      <td>0.092440</td>\n",
       "      <td>[[[46.838967596646405, 35.8797798363605], [44....</td>\n",
       "      <td>[28.94954695212123, 11.559275766924861]</td>\n",
       "      <td>[59.48640645086775, 35.36893406869099]</td>\n",
       "      <td>[4.101212909553137, 3.26085168183482]</td>\n",
       "      <td>[58.25716394690266, 11.0851249161892]</td>\n",
       "      <td>[44.59493426883317, 37.290222508536225]</td>\n",
       "    </tr>\n",
       "    <tr>\n",
       "      <th>1</th>\n",
       "      <td>/scratch/back_up/reward_competition_extention/...</td>\n",
       "      <td>0</td>\n",
       "      <td>32316</td>\n",
       "      <td>1.1_1.4</td>\n",
       "      <td>1.1_1.4</td>\n",
       "      <td>20230618_100636_standard_comp_to_omission_D2_s...</td>\n",
       "      <td>20230618_100636_standard_comp_to_omission_D2_s...</td>\n",
       "      <td>{'locations': [[[[340.27038574 227.90209961   ...</td>\n",
       "      <td>[[[[340.27038574 227.90209961          nan    ...</td>\n",
       "      <td>[1.1, 1.4, track_867, track_868, track_869, tr...</td>\n",
       "      <td>...</td>\n",
       "      <td>259.628858</td>\n",
       "      <td>214.308233</td>\n",
       "      <td>0.137652</td>\n",
       "      <td>0.092440</td>\n",
       "      <td>[[[46.838967596646405, 35.8797798363605], [44....</td>\n",
       "      <td>[28.94954695212123, 11.559275766924861]</td>\n",
       "      <td>[59.48640645086775, 35.36893406869099]</td>\n",
       "      <td>[4.101212909553137, 3.26085168183482]</td>\n",
       "      <td>[58.25716394690266, 11.0851249161892]</td>\n",
       "      <td>[44.59493426883317, 37.290222508536225]</td>\n",
       "    </tr>\n",
       "    <tr>\n",
       "      <th>2</th>\n",
       "      <td>/scratch/back_up/reward_competition_extention/...</td>\n",
       "      <td>0</td>\n",
       "      <td>32316</td>\n",
       "      <td>1.1_1.4</td>\n",
       "      <td>1.1_1.4</td>\n",
       "      <td>20230618_100636_standard_comp_to_omission_D2_s...</td>\n",
       "      <td>20230618_100636_standard_comp_to_omission_D2_s...</td>\n",
       "      <td>{'locations': [[[[340.27038574 227.90209961   ...</td>\n",
       "      <td>[[[[340.27038574 227.90209961          nan    ...</td>\n",
       "      <td>[1.1, 1.4, track_867, track_868, track_869, tr...</td>\n",
       "      <td>...</td>\n",
       "      <td>259.628858</td>\n",
       "      <td>214.308233</td>\n",
       "      <td>0.137652</td>\n",
       "      <td>0.092440</td>\n",
       "      <td>[[[31.37122566669405, 31.1085619584881], [33.5...</td>\n",
       "      <td>[28.94954695212123, 11.559275766924861]</td>\n",
       "      <td>[59.48640645086775, 35.36893406869099]</td>\n",
       "      <td>[4.101212909553137, 3.26085168183482]</td>\n",
       "      <td>[58.25716394690266, 11.0851249161892]</td>\n",
       "      <td>[44.59493426883317, 37.290222508536225]</td>\n",
       "    </tr>\n",
       "    <tr>\n",
       "      <th>3</th>\n",
       "      <td>/scratch/back_up/reward_competition_extention/...</td>\n",
       "      <td>32792</td>\n",
       "      <td>68495</td>\n",
       "      <td>1.1</td>\n",
       "      <td>1.1_1.4</td>\n",
       "      <td>20230618_100636_standard_comp_to_omission_D2_s...</td>\n",
       "      <td>20230618_100636_standard_comp_to_omission_D2_s...</td>\n",
       "      <td>{'locations': [[[[nan]\n",
       " [nan]], [[nan]\n",
       " [nan]]...</td>\n",
       "      <td>[[[[nan], [nan]], [[nan], [nan]], [[nan], [nan...</td>\n",
       "      <td>[1.1]</td>\n",
       "      <td>...</td>\n",
       "      <td>257.895956</td>\n",
       "      <td>210.453045</td>\n",
       "      <td>0.140174</td>\n",
       "      <td>0.093061</td>\n",
       "      <td>[[[30.16917980878218, 35.74821488617344], [27....</td>\n",
       "      <td>[33.13448993399251, 12.210464782039047]</td>\n",
       "      <td>[62.20487870752268, 36.45236548667897]</td>\n",
       "      <td>[4.623240489943855, 3.363999805710559]</td>\n",
       "      <td>[62.911815889791995, 12.39031517500344]</td>\n",
       "      <td>[47.762130656568786, 38.156549438224864]</td>\n",
       "    </tr>\n",
       "    <tr>\n",
       "      <th>4</th>\n",
       "      <td>/scratch/back_up/reward_competition_extention/...</td>\n",
       "      <td>32860</td>\n",
       "      <td>68288</td>\n",
       "      <td>1.2</td>\n",
       "      <td>1.1_1.2</td>\n",
       "      <td>20230620_114347_standard_comp_to_omission_D4_s...</td>\n",
       "      <td>20230620_114347_standard_comp_to_omission_D4_s...</td>\n",
       "      <td>{'locations': [[[[303.96658325]\n",
       " [368.13119507...</td>\n",
       "      <td>[[[[303.96658325], [368.13119507]], [[299.8300...</td>\n",
       "      <td>[1.2]</td>\n",
       "      <td>...</td>\n",
       "      <td>266.566707</td>\n",
       "      <td>214.647754</td>\n",
       "      <td>0.137434</td>\n",
       "      <td>0.090034</td>\n",
       "      <td>[[[41.77548574260138, 33.14423168550605], [41....</td>\n",
       "      <td>[28.726306016601946, 10.842459364362139]</td>\n",
       "      <td>[59.534675462363765, 34.36103254330584]</td>\n",
       "      <td>[4.135542067093765, 3.1496128098840956]</td>\n",
       "      <td>[58.282641339237685, 10.501152914297204]</td>\n",
       "      <td>[44.54098011165848, 36.54165425213083]</td>\n",
       "    </tr>\n",
       "  </tbody>\n",
       "</table>\n",
       "<p>5 rows × 29 columns</p>\n",
       "</div>"
      ],
      "text/plain": [
       "                                           file_path  start_frame  stop_frame  \\\n",
       "0  /scratch/back_up/reward_competition_extention/...        32792       68495   \n",
       "1  /scratch/back_up/reward_competition_extention/...            0       32316   \n",
       "2  /scratch/back_up/reward_competition_extention/...            0       32316   \n",
       "3  /scratch/back_up/reward_competition_extention/...        32792       68495   \n",
       "4  /scratch/back_up/reward_competition_extention/...        32860       68288   \n",
       "\n",
       "  individual_subj all_subj                                         video_name  \\\n",
       "0             1.4  1.1_1.4  20230618_100636_standard_comp_to_omission_D2_s...   \n",
       "1         1.1_1.4  1.1_1.4  20230618_100636_standard_comp_to_omission_D2_s...   \n",
       "2         1.1_1.4  1.1_1.4  20230618_100636_standard_comp_to_omission_D2_s...   \n",
       "3             1.1  1.1_1.4  20230618_100636_standard_comp_to_omission_D2_s...   \n",
       "4             1.2  1.1_1.2  20230620_114347_standard_comp_to_omission_D4_s...   \n",
       "\n",
       "                                      recording_name  \\\n",
       "0  20230618_100636_standard_comp_to_omission_D2_s...   \n",
       "1  20230618_100636_standard_comp_to_omission_D2_s...   \n",
       "2  20230618_100636_standard_comp_to_omission_D2_s...   \n",
       "3  20230618_100636_standard_comp_to_omission_D2_s...   \n",
       "4  20230620_114347_standard_comp_to_omission_D4_s...   \n",
       "\n",
       "                                      all_sleap_data  \\\n",
       "0  {'locations': [[[[340.27038574]\n",
       " [388.14276123...   \n",
       "1  {'locations': [[[[340.27038574 227.90209961   ...   \n",
       "2  {'locations': [[[[340.27038574 227.90209961   ...   \n",
       "3  {'locations': [[[[nan]\n",
       " [nan]], [[nan]\n",
       " [nan]]...   \n",
       "4  {'locations': [[[[303.96658325]\n",
       " [368.13119507...   \n",
       "\n",
       "                                           locations  \\\n",
       "0  [[[[340.27038574], [388.14276123]], [[324.3432...   \n",
       "1  [[[[340.27038574 227.90209961          nan    ...   \n",
       "2  [[[[340.27038574 227.90209961          nan    ...   \n",
       "3  [[[[nan], [nan]], [[nan], [nan]], [[nan], [nan...   \n",
       "4  [[[[303.96658325], [368.13119507]], [[299.8300...   \n",
       "\n",
       "                                         track_names  ... average_height  \\\n",
       "0                                              [1.4]  ...     259.628858   \n",
       "1  [1.1, 1.4, track_867, track_868, track_869, tr...  ...     259.628858   \n",
       "2  [1.1, 1.4, track_867, track_868, track_869, tr...  ...     259.628858   \n",
       "3                                              [1.1]  ...     257.895956   \n",
       "4                                              [1.2]  ...     266.566707   \n",
       "\n",
       "  average_width width_ratio height_ratio  \\\n",
       "0    214.308233    0.137652     0.092440   \n",
       "1    214.308233    0.137652     0.092440   \n",
       "2    214.308233    0.137652     0.092440   \n",
       "3    210.453045    0.140174     0.093061   \n",
       "4    214.647754    0.137434     0.090034   \n",
       "\n",
       "                                  rescaled_locations  \\\n",
       "0  [[[46.838967596646405, 35.8797798363605], [44....   \n",
       "1  [[[46.838967596646405, 35.8797798363605], [44....   \n",
       "2  [[[31.37122566669405, 31.1085619584881], [33.5...   \n",
       "3  [[[30.16917980878218, 35.74821488617344], [27....   \n",
       "4  [[[41.77548574260138, 33.14423168550605], [41....   \n",
       "\n",
       "                               box_top_left  \\\n",
       "0   [28.94954695212123, 11.559275766924861]   \n",
       "1   [28.94954695212123, 11.559275766924861]   \n",
       "2   [28.94954695212123, 11.559275766924861]   \n",
       "3   [33.13448993399251, 12.210464782039047]   \n",
       "4  [28.726306016601946, 10.842459364362139]   \n",
       "\n",
       "                          box_bottom_right  \\\n",
       "0   [59.48640645086775, 35.36893406869099]   \n",
       "1   [59.48640645086775, 35.36893406869099]   \n",
       "2   [59.48640645086775, 35.36893406869099]   \n",
       "3   [62.20487870752268, 36.45236548667897]   \n",
       "4  [59.534675462363765, 34.36103254330584]   \n",
       "\n",
       "                           box_bottom_left  \\\n",
       "0    [4.101212909553137, 3.26085168183482]   \n",
       "1    [4.101212909553137, 3.26085168183482]   \n",
       "2    [4.101212909553137, 3.26085168183482]   \n",
       "3   [4.623240489943855, 3.363999805710559]   \n",
       "4  [4.135542067093765, 3.1496128098840956]   \n",
       "\n",
       "                              box_top_right  \\\n",
       "0     [58.25716394690266, 11.0851249161892]   \n",
       "1     [58.25716394690266, 11.0851249161892]   \n",
       "2     [58.25716394690266, 11.0851249161892]   \n",
       "3   [62.911815889791995, 12.39031517500344]   \n",
       "4  [58.282641339237685, 10.501152914297204]   \n",
       "\n",
       "                                reward_port  \n",
       "0   [44.59493426883317, 37.290222508536225]  \n",
       "1   [44.59493426883317, 37.290222508536225]  \n",
       "2   [44.59493426883317, 37.290222508536225]  \n",
       "3  [47.762130656568786, 38.156549438224864]  \n",
       "4    [44.54098011165848, 36.54165425213083]  \n",
       "\n",
       "[5 rows x 29 columns]"
      ]
     },
     "execution_count": 68,
     "metadata": {},
     "output_type": "execute_result"
    }
   ],
   "source": [
    "VIDEO_TO_FRAME_AND_SUBJECT_DF.head()"
   ]
  },
  {
   "cell_type": "markdown",
   "metadata": {},
   "source": [
    "# Filtering out all the unnecessary pose estimation"
   ]
  },
  {
   "cell_type": "markdown",
   "metadata": {},
   "source": [
    "- Using the start and stop of each subject to remove all other frames where the subject(s) are not there"
   ]
  },
  {
   "cell_type": "code",
   "execution_count": 69,
   "metadata": {},
   "outputs": [],
   "source": [
    "\n",
    "# For this example, let's assume we want the slice [:, 1:3], \n",
    "# i.e., the last two columns of every row\n",
    "VIDEO_TO_FRAME_AND_SUBJECT_DF['sliced_locations'] = VIDEO_TO_FRAME_AND_SUBJECT_DF.apply(lambda row: slice_and_zero(row[\"rescaled_locations\"], row[\"start_frame\"], row[\"stop_frame\"]), axis=1)\n",
    "\n"
   ]
  },
  {
   "cell_type": "code",
   "execution_count": 70,
   "metadata": {},
   "outputs": [
    {
     "data": {
      "text/plain": [
       "array([[[0., 0.],\n",
       "        [0., 0.],\n",
       "        [0., 0.],\n",
       "        [0., 0.],\n",
       "        [0., 0.],\n",
       "        [0., 0.]],\n",
       "\n",
       "       [[0., 0.],\n",
       "        [0., 0.],\n",
       "        [0., 0.],\n",
       "        [0., 0.],\n",
       "        [0., 0.],\n",
       "        [0., 0.]],\n",
       "\n",
       "       [[0., 0.],\n",
       "        [0., 0.],\n",
       "        [0., 0.],\n",
       "        [0., 0.],\n",
       "        [0., 0.],\n",
       "        [0., 0.]],\n",
       "\n",
       "       [[0., 0.],\n",
       "        [0., 0.],\n",
       "        [0., 0.],\n",
       "        [0., 0.],\n",
       "        [0., 0.],\n",
       "        [0., 0.]],\n",
       "\n",
       "       [[0., 0.],\n",
       "        [0., 0.],\n",
       "        [0., 0.],\n",
       "        [0., 0.],\n",
       "        [0., 0.],\n",
       "        [0., 0.]]])"
      ]
     },
     "execution_count": 70,
     "metadata": {},
     "output_type": "execute_result"
    }
   ],
   "source": [
    "VIDEO_TO_FRAME_AND_SUBJECT_DF['sliced_locations'].iloc[0][:5]"
   ]
  },
  {
   "cell_type": "code",
   "execution_count": 71,
   "metadata": {},
   "outputs": [
    {
     "data": {
      "text/plain": [
       "array([[[40.76983634, 34.71093794],\n",
       "        [40.25794642, 35.86114691],\n",
       "        [43.43079437, 36.25258796],\n",
       "        [33.0345497 , 32.92466758],\n",
       "        [36.40885599, 35.09325295],\n",
       "        [42.39399621, 35.84196952]],\n",
       "\n",
       "       [[41.29830687, 34.76065584],\n",
       "        [40.70503462, 36.19687254],\n",
       "        [43.97994969, 36.27773184],\n",
       "        [33.58496107, 33.2316243 ],\n",
       "        [36.83830918, 35.14091432],\n",
       "        [42.90361769, 35.859979  ]],\n",
       "\n",
       "       [[41.34262963, 34.79000306],\n",
       "        [40.77135283, 36.2008643 ],\n",
       "        [43.98933431, 36.26498923],\n",
       "        [33.61698176, 33.65944259],\n",
       "        [36.90462319, 35.47941021],\n",
       "        [42.9404168 , 35.86464499]],\n",
       "\n",
       "       [[40.7706681 , 34.43453019],\n",
       "        [41.27402197, 35.8790774 ],\n",
       "        [43.46409   , 35.52141258],\n",
       "        [33.63654704, 33.67939577],\n",
       "        [36.96033436, 35.49625178],\n",
       "        [42.46562845, 35.19953259]],\n",
       "\n",
       "       [[40.74923136, 34.43724967],\n",
       "        [40.78942053, 35.85353858],\n",
       "        [42.98599561, 35.82496432],\n",
       "        [33.57561216, 34.33577425],\n",
       "        [36.9507313 , 35.50273452],\n",
       "        [42.39675614, 35.46523733]]])"
      ]
     },
     "execution_count": 71,
     "metadata": {},
     "output_type": "execute_result"
    }
   ],
   "source": [
    "VIDEO_TO_FRAME_AND_SUBJECT_DF['sliced_locations'].iloc[0][-5:]"
   ]
  },
  {
   "cell_type": "markdown",
   "metadata": {},
   "source": [
    "# Calculating the distance from thorax to reward port"
   ]
  },
  {
   "cell_type": "code",
   "execution_count": 72,
   "metadata": {},
   "outputs": [
    {
     "data": {
      "text/plain": [
       "['left_ear', 'right_ear', 'nose', 'tail_base', 'thorax', 'forehead']"
      ]
     },
     "execution_count": 72,
     "metadata": {},
     "output_type": "execute_result"
    }
   ],
   "source": [
    "VIDEO_TO_FRAME_AND_SUBJECT_DF[\"all_sleap_data\"].iloc[0][\"node_names\"]"
   ]
  },
  {
   "cell_type": "code",
   "execution_count": 73,
   "metadata": {},
   "outputs": [],
   "source": [
    "VIDEO_TO_FRAME_AND_SUBJECT_DF[\"nose_index\"] = VIDEO_TO_FRAME_AND_SUBJECT_DF[\"all_sleap_data\"].apply(lambda x: x[\"node_names\"].index(\"nose\"))"
   ]
  },
  {
   "cell_type": "code",
   "execution_count": 74,
   "metadata": {},
   "outputs": [],
   "source": [
    "VIDEO_TO_FRAME_AND_SUBJECT_DF[\"nose_coordinates\"] = VIDEO_TO_FRAME_AND_SUBJECT_DF.apply(lambda x: x[\"sliced_locations\"][:,x[\"nose_index\"],:], axis=1)"
   ]
  },
  {
   "cell_type": "code",
   "execution_count": 75,
   "metadata": {},
   "outputs": [
    {
     "data": {
      "text/plain": [
       "0    [[0.0, 0.0], [0.0, 0.0], [0.0, 0.0], [0.0, 0.0...\n",
       "1    [[45.74467292499175, 37.664445028211425], [45....\n",
       "2    [[29.24579132804375, 30.280224522241213], [29....\n",
       "3    [[0.0, 0.0], [0.0, 0.0], [0.0, 0.0], [0.0, 0.0...\n",
       "4    [[0.0, 0.0], [0.0, 0.0], [0.0, 0.0], [0.0, 0.0...\n",
       "Name: nose_coordinates, dtype: object"
      ]
     },
     "execution_count": 75,
     "metadata": {},
     "output_type": "execute_result"
    }
   ],
   "source": [
    "VIDEO_TO_FRAME_AND_SUBJECT_DF[\"nose_coordinates\"].head()"
   ]
  },
  {
   "cell_type": "code",
   "execution_count": 76,
   "metadata": {},
   "outputs": [
    {
     "data": {
      "text/plain": [
       "0     [44.59493426883317, 37.290222508536225]\n",
       "1     [44.59493426883317, 37.290222508536225]\n",
       "2     [44.59493426883317, 37.290222508536225]\n",
       "3    [47.762130656568786, 38.156549438224864]\n",
       "4      [44.54098011165848, 36.54165425213083]\n",
       "5      [44.54098011165848, 36.54165425213083]\n",
       "6      [44.54098011165848, 36.54165425213083]\n",
       "7     [47.64213996009827, 37.779720514759255]\n",
       "Name: reward_port, dtype: object"
      ]
     },
     "execution_count": 76,
     "metadata": {},
     "output_type": "execute_result"
    }
   ],
   "source": [
    "VIDEO_TO_FRAME_AND_SUBJECT_DF[\"reward_port\"]"
   ]
  },
  {
   "cell_type": "code",
   "execution_count": 77,
   "metadata": {},
   "outputs": [],
   "source": [
    "VIDEO_TO_FRAME_AND_SUBJECT_DF[\"nose_to_reward_port_distance\"] = VIDEO_TO_FRAME_AND_SUBJECT_DF.apply(lambda row: np.linalg.norm(row[\"nose_coordinates\"] - row[\"reward_port\"], axis=1), axis=1)"
   ]
  },
  {
   "cell_type": "code",
   "execution_count": 78,
   "metadata": {},
   "outputs": [
    {
     "data": {
      "text/plain": [
       "0    [58.13147905547985, 58.13147905547985, 58.1314...\n",
       "1    [1.209107717160627, 1.0693017929097293, 0.5754...\n",
       "2    [16.874129926744246, 16.874129926744246, 16.87...\n",
       "3    [61.132179659217506, 61.132179659217506, 61.13...\n",
       "4    [57.61242404889268, 57.61242404889268, 57.6124...\n",
       "5    [57.61242404889268, 57.61242404889268, 57.6124...\n",
       "6    [57.61242404889268, 57.61242404889268, 57.6124...\n",
       "7    [60.80362474516559, 60.80362474516559, 60.8036...\n",
       "Name: nose_to_reward_port_distance, dtype: object"
      ]
     },
     "execution_count": 78,
     "metadata": {},
     "output_type": "execute_result"
    }
   ],
   "source": [
    "VIDEO_TO_FRAME_AND_SUBJECT_DF[\"nose_to_reward_port_distance\"]"
   ]
  },
  {
   "cell_type": "markdown",
   "metadata": {},
   "source": [
    "## Combining the pose tracking data with the nose poke entry timestamps"
   ]
  },
  {
   "cell_type": "code",
   "execution_count": 79,
   "metadata": {},
   "outputs": [
    {
     "data": {
      "text/plain": [
       "0    1.4\n",
       "1    1.1\n",
       "2    1.4\n",
       "3    1.1\n",
       "4    1.2\n",
       "5    1.1\n",
       "6    1.2\n",
       "7    1.1\n",
       "Name: subject_id, dtype: object"
      ]
     },
     "execution_count": 79,
     "metadata": {},
     "output_type": "execute_result"
    }
   ],
   "source": [
    "VIDEO_TO_FRAME_AND_SUBJECT_DF[\"subject_id\"]"
   ]
  },
  {
   "cell_type": "code",
   "execution_count": 80,
   "metadata": {},
   "outputs": [
    {
     "data": {
      "text/html": [
       "<div>\n",
       "<style scoped>\n",
       "    .dataframe tbody tr th:only-of-type {\n",
       "        vertical-align: middle;\n",
       "    }\n",
       "\n",
       "    .dataframe tbody tr th {\n",
       "        vertical-align: top;\n",
       "    }\n",
       "\n",
       "    .dataframe thead th {\n",
       "        text-align: right;\n",
       "    }\n",
       "</style>\n",
       "<table border=\"1\" class=\"dataframe\">\n",
       "  <thead>\n",
       "    <tr style=\"text-align: right;\">\n",
       "      <th></th>\n",
       "      <th>file_path</th>\n",
       "      <th>start_frame</th>\n",
       "      <th>stop_frame</th>\n",
       "      <th>individual_subj</th>\n",
       "      <th>all_subj</th>\n",
       "      <th>video_name</th>\n",
       "      <th>recording_name</th>\n",
       "      <th>all_sleap_data</th>\n",
       "      <th>locations</th>\n",
       "      <th>track_names</th>\n",
       "      <th>...</th>\n",
       "      <th>rescaled_locations</th>\n",
       "      <th>box_top_left</th>\n",
       "      <th>box_bottom_right</th>\n",
       "      <th>box_bottom_left</th>\n",
       "      <th>box_top_right</th>\n",
       "      <th>reward_port</th>\n",
       "      <th>sliced_locations</th>\n",
       "      <th>nose_index</th>\n",
       "      <th>nose_coordinates</th>\n",
       "      <th>nose_to_reward_port_distance</th>\n",
       "    </tr>\n",
       "  </thead>\n",
       "  <tbody>\n",
       "    <tr>\n",
       "      <th>0</th>\n",
       "      <td>/scratch/back_up/reward_competition_extention/...</td>\n",
       "      <td>32792</td>\n",
       "      <td>68495</td>\n",
       "      <td>1.4</td>\n",
       "      <td>1.1_1.4</td>\n",
       "      <td>20230618_100636_standard_comp_to_omission_D2_s...</td>\n",
       "      <td>20230618_100636_standard_comp_to_omission_D2_s...</td>\n",
       "      <td>{'locations': [[[[340.27038574]\n",
       " [388.14276123...</td>\n",
       "      <td>[[[[340.27038574], [388.14276123]], [[324.3432...</td>\n",
       "      <td>[1.4]</td>\n",
       "      <td>...</td>\n",
       "      <td>[[[46.838967596646405, 35.8797798363605], [44....</td>\n",
       "      <td>[28.94954695212123, 11.559275766924861]</td>\n",
       "      <td>[59.48640645086775, 35.36893406869099]</td>\n",
       "      <td>[4.101212909553137, 3.26085168183482]</td>\n",
       "      <td>[58.25716394690266, 11.0851249161892]</td>\n",
       "      <td>[44.59493426883317, 37.290222508536225]</td>\n",
       "      <td>[[[0.0, 0.0], [0.0, 0.0], [0.0, 0.0], [0.0, 0....</td>\n",
       "      <td>2</td>\n",
       "      <td>[[0.0, 0.0], [0.0, 0.0], [0.0, 0.0], [0.0, 0.0...</td>\n",
       "      <td>[58.13147905547985, 58.13147905547985, 58.1314...</td>\n",
       "    </tr>\n",
       "    <tr>\n",
       "      <th>1</th>\n",
       "      <td>/scratch/back_up/reward_competition_extention/...</td>\n",
       "      <td>0</td>\n",
       "      <td>32316</td>\n",
       "      <td>1.1_1.4</td>\n",
       "      <td>1.1_1.4</td>\n",
       "      <td>20230618_100636_standard_comp_to_omission_D2_s...</td>\n",
       "      <td>20230618_100636_standard_comp_to_omission_D2_s...</td>\n",
       "      <td>{'locations': [[[[340.27038574 227.90209961   ...</td>\n",
       "      <td>[[[[340.27038574 227.90209961          nan    ...</td>\n",
       "      <td>[1.1, 1.4, track_867, track_868, track_869, tr...</td>\n",
       "      <td>...</td>\n",
       "      <td>[[[46.838967596646405, 35.8797798363605], [44....</td>\n",
       "      <td>[28.94954695212123, 11.559275766924861]</td>\n",
       "      <td>[59.48640645086775, 35.36893406869099]</td>\n",
       "      <td>[4.101212909553137, 3.26085168183482]</td>\n",
       "      <td>[58.25716394690266, 11.0851249161892]</td>\n",
       "      <td>[44.59493426883317, 37.290222508536225]</td>\n",
       "      <td>[[[46.838967596646405, 35.8797798363605], [44....</td>\n",
       "      <td>2</td>\n",
       "      <td>[[45.74467292499175, 37.664445028211425], [45....</td>\n",
       "      <td>[1.209107717160627, 1.0693017929097293, 0.5754...</td>\n",
       "    </tr>\n",
       "    <tr>\n",
       "      <th>2</th>\n",
       "      <td>/scratch/back_up/reward_competition_extention/...</td>\n",
       "      <td>0</td>\n",
       "      <td>32316</td>\n",
       "      <td>1.1_1.4</td>\n",
       "      <td>1.1_1.4</td>\n",
       "      <td>20230618_100636_standard_comp_to_omission_D2_s...</td>\n",
       "      <td>20230618_100636_standard_comp_to_omission_D2_s...</td>\n",
       "      <td>{'locations': [[[[340.27038574 227.90209961   ...</td>\n",
       "      <td>[[[[340.27038574 227.90209961          nan    ...</td>\n",
       "      <td>[1.1, 1.4, track_867, track_868, track_869, tr...</td>\n",
       "      <td>...</td>\n",
       "      <td>[[[31.37122566669405, 31.1085619584881], [33.5...</td>\n",
       "      <td>[28.94954695212123, 11.559275766924861]</td>\n",
       "      <td>[59.48640645086775, 35.36893406869099]</td>\n",
       "      <td>[4.101212909553137, 3.26085168183482]</td>\n",
       "      <td>[58.25716394690266, 11.0851249161892]</td>\n",
       "      <td>[44.59493426883317, 37.290222508536225]</td>\n",
       "      <td>[[[31.37122566669405, 31.1085619584881], [33.5...</td>\n",
       "      <td>2</td>\n",
       "      <td>[[29.24579132804375, 30.280224522241213], [29....</td>\n",
       "      <td>[16.874129926744246, 16.874129926744246, 16.87...</td>\n",
       "    </tr>\n",
       "    <tr>\n",
       "      <th>3</th>\n",
       "      <td>/scratch/back_up/reward_competition_extention/...</td>\n",
       "      <td>32792</td>\n",
       "      <td>68495</td>\n",
       "      <td>1.1</td>\n",
       "      <td>1.1_1.4</td>\n",
       "      <td>20230618_100636_standard_comp_to_omission_D2_s...</td>\n",
       "      <td>20230618_100636_standard_comp_to_omission_D2_s...</td>\n",
       "      <td>{'locations': [[[[nan]\n",
       " [nan]], [[nan]\n",
       " [nan]]...</td>\n",
       "      <td>[[[[nan], [nan]], [[nan], [nan]], [[nan], [nan...</td>\n",
       "      <td>[1.1]</td>\n",
       "      <td>...</td>\n",
       "      <td>[[[30.16917980878218, 35.74821488617344], [27....</td>\n",
       "      <td>[33.13448993399251, 12.210464782039047]</td>\n",
       "      <td>[62.20487870752268, 36.45236548667897]</td>\n",
       "      <td>[4.623240489943855, 3.363999805710559]</td>\n",
       "      <td>[62.911815889791995, 12.39031517500344]</td>\n",
       "      <td>[47.762130656568786, 38.156549438224864]</td>\n",
       "      <td>[[[0.0, 0.0], [0.0, 0.0], [0.0, 0.0], [0.0, 0....</td>\n",
       "      <td>2</td>\n",
       "      <td>[[0.0, 0.0], [0.0, 0.0], [0.0, 0.0], [0.0, 0.0...</td>\n",
       "      <td>[61.132179659217506, 61.132179659217506, 61.13...</td>\n",
       "    </tr>\n",
       "    <tr>\n",
       "      <th>4</th>\n",
       "      <td>/scratch/back_up/reward_competition_extention/...</td>\n",
       "      <td>32860</td>\n",
       "      <td>68288</td>\n",
       "      <td>1.2</td>\n",
       "      <td>1.1_1.2</td>\n",
       "      <td>20230620_114347_standard_comp_to_omission_D4_s...</td>\n",
       "      <td>20230620_114347_standard_comp_to_omission_D4_s...</td>\n",
       "      <td>{'locations': [[[[303.96658325]\n",
       " [368.13119507...</td>\n",
       "      <td>[[[[303.96658325], [368.13119507]], [[299.8300...</td>\n",
       "      <td>[1.2]</td>\n",
       "      <td>...</td>\n",
       "      <td>[[[41.77548574260138, 33.14423168550605], [41....</td>\n",
       "      <td>[28.726306016601946, 10.842459364362139]</td>\n",
       "      <td>[59.534675462363765, 34.36103254330584]</td>\n",
       "      <td>[4.135542067093765, 3.1496128098840956]</td>\n",
       "      <td>[58.282641339237685, 10.501152914297204]</td>\n",
       "      <td>[44.54098011165848, 36.54165425213083]</td>\n",
       "      <td>[[[0.0, 0.0], [0.0, 0.0], [0.0, 0.0], [0.0, 0....</td>\n",
       "      <td>2</td>\n",
       "      <td>[[0.0, 0.0], [0.0, 0.0], [0.0, 0.0], [0.0, 0.0...</td>\n",
       "      <td>[57.61242404889268, 57.61242404889268, 57.6124...</td>\n",
       "    </tr>\n",
       "  </tbody>\n",
       "</table>\n",
       "<p>5 rows × 33 columns</p>\n",
       "</div>"
      ],
      "text/plain": [
       "                                           file_path  start_frame  stop_frame  \\\n",
       "0  /scratch/back_up/reward_competition_extention/...        32792       68495   \n",
       "1  /scratch/back_up/reward_competition_extention/...            0       32316   \n",
       "2  /scratch/back_up/reward_competition_extention/...            0       32316   \n",
       "3  /scratch/back_up/reward_competition_extention/...        32792       68495   \n",
       "4  /scratch/back_up/reward_competition_extention/...        32860       68288   \n",
       "\n",
       "  individual_subj all_subj                                         video_name  \\\n",
       "0             1.4  1.1_1.4  20230618_100636_standard_comp_to_omission_D2_s...   \n",
       "1         1.1_1.4  1.1_1.4  20230618_100636_standard_comp_to_omission_D2_s...   \n",
       "2         1.1_1.4  1.1_1.4  20230618_100636_standard_comp_to_omission_D2_s...   \n",
       "3             1.1  1.1_1.4  20230618_100636_standard_comp_to_omission_D2_s...   \n",
       "4             1.2  1.1_1.2  20230620_114347_standard_comp_to_omission_D4_s...   \n",
       "\n",
       "                                      recording_name  \\\n",
       "0  20230618_100636_standard_comp_to_omission_D2_s...   \n",
       "1  20230618_100636_standard_comp_to_omission_D2_s...   \n",
       "2  20230618_100636_standard_comp_to_omission_D2_s...   \n",
       "3  20230618_100636_standard_comp_to_omission_D2_s...   \n",
       "4  20230620_114347_standard_comp_to_omission_D4_s...   \n",
       "\n",
       "                                      all_sleap_data  \\\n",
       "0  {'locations': [[[[340.27038574]\n",
       " [388.14276123...   \n",
       "1  {'locations': [[[[340.27038574 227.90209961   ...   \n",
       "2  {'locations': [[[[340.27038574 227.90209961   ...   \n",
       "3  {'locations': [[[[nan]\n",
       " [nan]], [[nan]\n",
       " [nan]]...   \n",
       "4  {'locations': [[[[303.96658325]\n",
       " [368.13119507...   \n",
       "\n",
       "                                           locations  \\\n",
       "0  [[[[340.27038574], [388.14276123]], [[324.3432...   \n",
       "1  [[[[340.27038574 227.90209961          nan    ...   \n",
       "2  [[[[340.27038574 227.90209961          nan    ...   \n",
       "3  [[[[nan], [nan]], [[nan], [nan]], [[nan], [nan...   \n",
       "4  [[[[303.96658325], [368.13119507]], [[299.8300...   \n",
       "\n",
       "                                         track_names  ...  \\\n",
       "0                                              [1.4]  ...   \n",
       "1  [1.1, 1.4, track_867, track_868, track_869, tr...  ...   \n",
       "2  [1.1, 1.4, track_867, track_868, track_869, tr...  ...   \n",
       "3                                              [1.1]  ...   \n",
       "4                                              [1.2]  ...   \n",
       "\n",
       "                                  rescaled_locations  \\\n",
       "0  [[[46.838967596646405, 35.8797798363605], [44....   \n",
       "1  [[[46.838967596646405, 35.8797798363605], [44....   \n",
       "2  [[[31.37122566669405, 31.1085619584881], [33.5...   \n",
       "3  [[[30.16917980878218, 35.74821488617344], [27....   \n",
       "4  [[[41.77548574260138, 33.14423168550605], [41....   \n",
       "\n",
       "                               box_top_left  \\\n",
       "0   [28.94954695212123, 11.559275766924861]   \n",
       "1   [28.94954695212123, 11.559275766924861]   \n",
       "2   [28.94954695212123, 11.559275766924861]   \n",
       "3   [33.13448993399251, 12.210464782039047]   \n",
       "4  [28.726306016601946, 10.842459364362139]   \n",
       "\n",
       "                          box_bottom_right  \\\n",
       "0   [59.48640645086775, 35.36893406869099]   \n",
       "1   [59.48640645086775, 35.36893406869099]   \n",
       "2   [59.48640645086775, 35.36893406869099]   \n",
       "3   [62.20487870752268, 36.45236548667897]   \n",
       "4  [59.534675462363765, 34.36103254330584]   \n",
       "\n",
       "                           box_bottom_left  \\\n",
       "0    [4.101212909553137, 3.26085168183482]   \n",
       "1    [4.101212909553137, 3.26085168183482]   \n",
       "2    [4.101212909553137, 3.26085168183482]   \n",
       "3   [4.623240489943855, 3.363999805710559]   \n",
       "4  [4.135542067093765, 3.1496128098840956]   \n",
       "\n",
       "                              box_top_right  \\\n",
       "0     [58.25716394690266, 11.0851249161892]   \n",
       "1     [58.25716394690266, 11.0851249161892]   \n",
       "2     [58.25716394690266, 11.0851249161892]   \n",
       "3   [62.911815889791995, 12.39031517500344]   \n",
       "4  [58.282641339237685, 10.501152914297204]   \n",
       "\n",
       "                                reward_port  \\\n",
       "0   [44.59493426883317, 37.290222508536225]   \n",
       "1   [44.59493426883317, 37.290222508536225]   \n",
       "2   [44.59493426883317, 37.290222508536225]   \n",
       "3  [47.762130656568786, 38.156549438224864]   \n",
       "4    [44.54098011165848, 36.54165425213083]   \n",
       "\n",
       "                                    sliced_locations  nose_index  \\\n",
       "0  [[[0.0, 0.0], [0.0, 0.0], [0.0, 0.0], [0.0, 0....           2   \n",
       "1  [[[46.838967596646405, 35.8797798363605], [44....           2   \n",
       "2  [[[31.37122566669405, 31.1085619584881], [33.5...           2   \n",
       "3  [[[0.0, 0.0], [0.0, 0.0], [0.0, 0.0], [0.0, 0....           2   \n",
       "4  [[[0.0, 0.0], [0.0, 0.0], [0.0, 0.0], [0.0, 0....           2   \n",
       "\n",
       "                                    nose_coordinates  \\\n",
       "0  [[0.0, 0.0], [0.0, 0.0], [0.0, 0.0], [0.0, 0.0...   \n",
       "1  [[45.74467292499175, 37.664445028211425], [45....   \n",
       "2  [[29.24579132804375, 30.280224522241213], [29....   \n",
       "3  [[0.0, 0.0], [0.0, 0.0], [0.0, 0.0], [0.0, 0.0...   \n",
       "4  [[0.0, 0.0], [0.0, 0.0], [0.0, 0.0], [0.0, 0.0...   \n",
       "\n",
       "                        nose_to_reward_port_distance  \n",
       "0  [58.13147905547985, 58.13147905547985, 58.1314...  \n",
       "1  [1.209107717160627, 1.0693017929097293, 0.5754...  \n",
       "2  [16.874129926744246, 16.874129926744246, 16.87...  \n",
       "3  [61.132179659217506, 61.132179659217506, 61.13...  \n",
       "4  [57.61242404889268, 57.61242404889268, 57.6124...  \n",
       "\n",
       "[5 rows x 33 columns]"
      ]
     },
     "execution_count": 80,
     "metadata": {},
     "output_type": "execute_result"
    }
   ],
   "source": [
    "VIDEO_TO_FRAME_AND_SUBJECT_DF.head()"
   ]
  },
  {
   "cell_type": "code",
   "execution_count": 81,
   "metadata": {},
   "outputs": [],
   "source": [
    "merged_nose_poke_time_and_sleap = TONE_TIMESTAMP_DF.merge(VIDEO_TO_FRAME_AND_SUBJECT_DF, left_on=\"video_file\", right_on='video_name', how='inner')"
   ]
  },
  {
   "cell_type": "markdown",
   "metadata": {},
   "source": [
    "- Removing all nose pokes that were not part of the video"
   ]
  },
  {
   "cell_type": "code",
   "execution_count": 82,
   "metadata": {},
   "outputs": [],
   "source": [
    "merged_nose_poke_time_and_sleap = merged_nose_poke_time_and_sleap[(merged_nose_poke_time_and_sleap[\"start_frame\"] <= merged_nose_poke_time_and_sleap[\"video_frame\"]) & (merged_nose_poke_time_and_sleap[\"video_frame\"] <= merged_nose_poke_time_and_sleap[\"stop_frame\"])].reset_index(drop=True)"
   ]
  },
  {
   "cell_type": "markdown",
   "metadata": {},
   "source": [
    "- How to get distance of nose to reward port for each nose poke"
   ]
  },
  {
   "cell_type": "code",
   "execution_count": 83,
   "metadata": {},
   "outputs": [],
   "source": [
    "merged_nose_poke_time_and_sleap[\"nose_poke_distance\"] = merged_nose_poke_time_and_sleap.apply(lambda x: x[\"nose_to_reward_port_distance\"][x[\"video_frame\"]], axis=1)"
   ]
  },
  {
   "cell_type": "markdown",
   "metadata": {},
   "source": [
    "- Filtering by distance that's below a given threshold"
   ]
  },
  {
   "cell_type": "code",
   "execution_count": 84,
   "metadata": {},
   "outputs": [],
   "source": [
    "merged_nose_poke_time_and_sleap = merged_nose_poke_time_and_sleap[merged_nose_poke_time_and_sleap[\"nose_poke_distance\"] <= DISTANCE_THRESHOLD]"
   ]
  },
  {
   "cell_type": "code",
   "execution_count": 85,
   "metadata": {},
   "outputs": [
    {
     "data": {
      "text/plain": [
       "0      787\n",
       "2      837\n",
       "4      839\n",
       "6      871\n",
       "8      904\n",
       "10     974\n",
       "12     981\n",
       "15    1250\n",
       "17    1346\n",
       "21    1736\n",
       "Name: video_frame, dtype: int64"
      ]
     },
     "execution_count": 85,
     "metadata": {},
     "output_type": "execute_result"
    }
   ],
   "source": [
    "merged_nose_poke_time_and_sleap[\"video_frame\"].head(n=10)"
   ]
  },
  {
   "cell_type": "code",
   "execution_count": 86,
   "metadata": {},
   "outputs": [
    {
     "data": {
      "text/plain": [
       "0     1.1\n",
       "2     1.1\n",
       "4     1.1\n",
       "6     1.1\n",
       "8     1.1\n",
       "10    1.1\n",
       "12    1.1\n",
       "15    1.4\n",
       "17    1.4\n",
       "21    1.4\n",
       "Name: subject_id, dtype: object"
      ]
     },
     "execution_count": 86,
     "metadata": {},
     "output_type": "execute_result"
    }
   ],
   "source": [
    "merged_nose_poke_time_and_sleap[\"subject_id\"].head(n=10)"
   ]
  },
  {
   "cell_type": "code",
   "execution_count": 87,
   "metadata": {},
   "outputs": [
    {
     "data": {
      "text/plain": [
       "0     0.916623\n",
       "2     0.731212\n",
       "4     0.723591\n",
       "6     1.088825\n",
       "8     1.016993\n",
       "10    0.560332\n",
       "12    0.615359\n",
       "15    1.032923\n",
       "17    1.124154\n",
       "21    1.659995\n",
       "Name: nose_poke_distance, dtype: float64"
      ]
     },
     "execution_count": 87,
     "metadata": {},
     "output_type": "execute_result"
    }
   ],
   "source": [
    "merged_nose_poke_time_and_sleap[\"nose_poke_distance\"].head(n=10)"
   ]
  },
  {
   "cell_type": "code",
   "execution_count": null,
   "metadata": {},
   "outputs": [],
   "source": []
  }
 ],
 "metadata": {
  "deepnote": {},
  "deepnote_execution_queue": [],
  "deepnote_notebook_id": "cf8fe3695d074ee7887fdf6459cbf5ce",
  "kernelspec": {
   "display_name": "Python 3 (ipykernel)",
   "language": "python",
   "name": "python3"
  },
  "language_info": {
   "codemirror_mode": {
    "name": "ipython",
    "version": 3
   },
   "file_extension": ".py",
   "mimetype": "text/x-python",
   "name": "python",
   "nbconvert_exporter": "python",
   "pygments_lexer": "ipython3",
   "version": "3.9.16"
  }
 },
 "nbformat": 4,
 "nbformat_minor": 4
}
