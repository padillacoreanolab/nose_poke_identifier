{
 "cells": [
  {
   "cell_type": "markdown",
   "source": [
    "# Manual Curation Importing Back To Full CSV"
   ],
   "metadata": {
    "collapsed": false
   }
  },
  {
   "cell_type": "markdown",
   "source": [
    "## THINGS THAT NEED TO BE CHANGED BEFORE RUNNING CODE\n",
    "Takes contested dataframe and replaces rows with the correct entry winners"
   ],
   "metadata": {
    "collapsed": false
   }
  },
  {
   "cell_type": "code",
   "execution_count": 43,
   "outputs": [],
   "source": [
    "#File path of the full csv\n",
    "# Ex. r\"C:\\Users\\albert\\Desktop\\20230612_112630_standard_comp_to_training_D1_subj_1-2_and_1-1.1.csv\"\n",
    "full_csv_file_path = r\"./proc/rce_pilot_2_nose_pokes.pkl\"\n",
    "\n",
    "#file path of the contested csv\n",
    "# Ex. r\"C:\\Users\\albert\\Desktop\\20230612_112630_standard_comp_to_training_D1_subj_1-2_and_1-1.1contested_frames.csv\"\n",
    "contested_csv_file_path = r\"C:\\Users\\yongc\\Desktop\\Leo Code\\20230612_112630_standard_comp_to_training_D1_subj_1-2_and_1-1.1contested_frames.csv\"\n",
    "\n",
    "# Where you want your file to be saved\n",
    "# Ex. r\"C:\\Users\\yongc\\Destop\\\\\"\n",
    "full_csv_combined_save_file_path = r\"C:\\Users\\yongc\\Desktop\\\\\"\n",
    "full_csv_combined_save_name = r\"20230612_112630_standard_comp_to_training_D1_subj_1-2_and_1-1_corrected.csv\"\n"
   ],
   "metadata": {
    "collapsed": false,
    "ExecuteTime": {
     "start_time": "2024-02-23T14:11:04.698042Z",
     "end_time": "2024-02-23T14:11:04.750369Z"
    }
   }
  },
  {
   "cell_type": "code",
   "execution_count": 44,
   "outputs": [],
   "source": [
    "import os\n",
    "import glob\n",
    "import git\n",
    "import sys\n",
    "# Imports of all used packages and libraries\n",
    "import numpy as np\n",
    "import pandas as pd\n",
    "# import seaborn as sns\n",
    "import matplotlib as mpl\n",
    "import matplotlib.pyplot as plt\n",
    "import h5py\n",
    "from scipy.interpolate import interp1d\n",
    "from scipy.signal import savgol_filter"
   ],
   "metadata": {
    "collapsed": false,
    "ExecuteTime": {
     "start_time": "2024-02-23T14:11:04.711134Z",
     "end_time": "2024-02-23T14:11:04.786198Z"
    }
   }
  },
  {
   "cell_type": "code",
   "execution_count": 45,
   "outputs": [],
   "source": [
    "nose_poke_full_df = pd.read_pickle(full_csv_file_path)\n",
    "manual_df = pd.read_csv(contested_csv_file_path)"
   ],
   "metadata": {
    "collapsed": false,
    "ExecuteTime": {
     "start_time": "2024-02-23T14:11:04.723440Z",
     "end_time": "2024-02-23T14:11:04.799590Z"
    }
   }
  },
  {
   "cell_type": "code",
   "execution_count": 46,
   "outputs": [
    {
     "data": {
      "text/plain": "                                         session_dir  \\\n0  20230612_112630_standard_comp_to_training_D1_s...   \n1  20230612_112630_standard_comp_to_training_D1_s...   \n2  20230612_112630_standard_comp_to_training_D1_s...   \n3  20230612_112630_standard_comp_to_training_D1_s...   \n4  20230612_112630_standard_comp_to_training_D1_s...   \n\n                                         tone_frames box_1_port_entry_frames  \\\n0  [[1125, 1324], [3519, 3720], [5815, 6014], [76...              [192, 248]   \n1  [[1125, 1324], [3519, 3720], [5815, 6014], [76...              [389, 405]   \n2  [[1125, 1324], [3519, 3720], [5815, 6014], [76...              [916, 929]   \n3  [[1125, 1324], [3519, 3720], [5815, 6014], [76...              [929, 948]   \n4  [[1125, 1324], [3519, 3720], [5815, 6014], [76...              [961, 983]   \n\n                                          video_name  \\\n0  20230612_112630_standard_comp_to_training_D1_s...   \n1  20230612_112630_standard_comp_to_training_D1_s...   \n2  20230612_112630_standard_comp_to_training_D1_s...   \n3  20230612_112630_standard_comp_to_training_D1_s...   \n4  20230612_112630_standard_comp_to_training_D1_s...   \n\n                                        session_path all_subjects  \\\n0  /scratch/back_up/reward_competition_extention/...   [1.1, 1.2]   \n1  /scratch/back_up/reward_competition_extention/...   [1.1, 1.2]   \n2  /scratch/back_up/reward_competition_extention/...   [1.1, 1.2]   \n3  /scratch/back_up/reward_competition_extention/...   [1.1, 1.2]   \n4  /scratch/back_up/reward_competition_extention/...   [1.1, 1.2]   \n\n   first_timestamp  last_timestamp  \\\n0          7977066        76318450   \n1          7977066        76318450   \n2          7977066        76318450   \n3          7977066        76318450   \n4          7977066        76318450   \n\n                                     tone_timestamps  \\\n0  [[1126742, 1326741], [3526740, 3726740], [5826...   \n1  [[1126742, 1326741], [3526740, 3726740], [5826...   \n2  [[1126742, 1326741], [3526740, 3726740], [5826...   \n3  [[1126742, 1326741], [3526740, 3726740], [5826...   \n4  [[1126742, 1326741], [3526740, 3726740], [5826...   \n\n  box_1_port_entry_timestamps  ... nose_index entry_length  \\\n0            [192745, 249350]  ...          2           56   \n1            [389747, 407142]  ...          2           16   \n2            [917544, 931741]  ...          2           13   \n3            [932141, 950539]  ...          2           19   \n4            [963342, 986354]  ...          2           22   \n\n  box_1_port_entry_start box_1_port_entry_end  \\\n0                    192                  248   \n1                    389                  405   \n2                    916                  929   \n3                    929                  948   \n4                    961                  983   \n\n                                    sliced_locations  \\\n0  {'1.1': [[[47.88 11.6 ], [46.72  12.984], [48....   \n1  {'1.1': [[[46.1  33.44], [43.97 34.94], [46.16...   \n2  {'1.1': [[[61.34 18.  ], [58.6  18.38], [60.25...   \n3  {'1.1': [[[59.7   15.125], [60.84 16.25], [61....   \n4  {'1.1': [[[58.62 12.96], [60.28 14.03], [59.75...   \n\n                                    nose_coordinates  \\\n0  {'1.1': [[48.3, 13.7], [47.84, 13.695], [47.75...   \n1  {'1.1': [[46.16, 36.0], [46.12, 35.97], [46.16...   \n2  {'1.1': [[60.25, 19.8], [60.78, 19.5], [60.78,...   \n3  {'1.1': [[61.47, 16.03], [61.22, 15.4], [61.0,...   \n4  {'1.1': [[59.75, 13.06], [59.88, 14.26], [59.9...   \n\n                        nose_to_reward_port_distance  \\\n0  {'1.1': 22.351771133170907, '1.2': 0.988053123...   \n1  {'1.1': 0.8902350171923165, '1.2': 25.90464148...   \n2  {'1.1': 21.949273716111037, '1.2': 1.066196743...   \n3  {'1.1': 25.589320821862895, '1.2': 0.630309449...   \n4  {'1.1': 26.99243314043086, '1.2': 0.6916250894...   \n\n                      nose_to_reward_port_distance_x  entry_winner contested  \n0  {'1.1': 3.033430232558146, '1.2': 0.9709302325...           1.2     False  \n1  {'1.1': 0.8771802325581461, '1.2': 6.564680232...           1.1     False  \n2  {'1.1': 14.970930232558146, '1.2': 0.908430232...           1.2     False  \n3  {'1.1': 16.189680232558146, '1.2': 0.345930232...           1.2     False  \n4  {'1.1': 14.470930232558146, '1.2': 0.408430232...           1.2     False  \n\n[5 rows x 25 columns]",
      "text/html": "<div>\n<style scoped>\n    .dataframe tbody tr th:only-of-type {\n        vertical-align: middle;\n    }\n\n    .dataframe tbody tr th {\n        vertical-align: top;\n    }\n\n    .dataframe thead th {\n        text-align: right;\n    }\n</style>\n<table border=\"1\" class=\"dataframe\">\n  <thead>\n    <tr style=\"text-align: right;\">\n      <th></th>\n      <th>session_dir</th>\n      <th>tone_frames</th>\n      <th>box_1_port_entry_frames</th>\n      <th>video_name</th>\n      <th>session_path</th>\n      <th>all_subjects</th>\n      <th>first_timestamp</th>\n      <th>last_timestamp</th>\n      <th>tone_timestamps</th>\n      <th>box_1_port_entry_timestamps</th>\n      <th>...</th>\n      <th>nose_index</th>\n      <th>entry_length</th>\n      <th>box_1_port_entry_start</th>\n      <th>box_1_port_entry_end</th>\n      <th>sliced_locations</th>\n      <th>nose_coordinates</th>\n      <th>nose_to_reward_port_distance</th>\n      <th>nose_to_reward_port_distance_x</th>\n      <th>entry_winner</th>\n      <th>contested</th>\n    </tr>\n  </thead>\n  <tbody>\n    <tr>\n      <th>0</th>\n      <td>20230612_112630_standard_comp_to_training_D1_s...</td>\n      <td>[[1125, 1324], [3519, 3720], [5815, 6014], [76...</td>\n      <td>[192, 248]</td>\n      <td>20230612_112630_standard_comp_to_training_D1_s...</td>\n      <td>/scratch/back_up/reward_competition_extention/...</td>\n      <td>[1.1, 1.2]</td>\n      <td>7977066</td>\n      <td>76318450</td>\n      <td>[[1126742, 1326741], [3526740, 3726740], [5826...</td>\n      <td>[192745, 249350]</td>\n      <td>...</td>\n      <td>2</td>\n      <td>56</td>\n      <td>192</td>\n      <td>248</td>\n      <td>{'1.1': [[[47.88 11.6 ], [46.72  12.984], [48....</td>\n      <td>{'1.1': [[48.3, 13.7], [47.84, 13.695], [47.75...</td>\n      <td>{'1.1': 22.351771133170907, '1.2': 0.988053123...</td>\n      <td>{'1.1': 3.033430232558146, '1.2': 0.9709302325...</td>\n      <td>1.2</td>\n      <td>False</td>\n    </tr>\n    <tr>\n      <th>1</th>\n      <td>20230612_112630_standard_comp_to_training_D1_s...</td>\n      <td>[[1125, 1324], [3519, 3720], [5815, 6014], [76...</td>\n      <td>[389, 405]</td>\n      <td>20230612_112630_standard_comp_to_training_D1_s...</td>\n      <td>/scratch/back_up/reward_competition_extention/...</td>\n      <td>[1.1, 1.2]</td>\n      <td>7977066</td>\n      <td>76318450</td>\n      <td>[[1126742, 1326741], [3526740, 3726740], [5826...</td>\n      <td>[389747, 407142]</td>\n      <td>...</td>\n      <td>2</td>\n      <td>16</td>\n      <td>389</td>\n      <td>405</td>\n      <td>{'1.1': [[[46.1  33.44], [43.97 34.94], [46.16...</td>\n      <td>{'1.1': [[46.16, 36.0], [46.12, 35.97], [46.16...</td>\n      <td>{'1.1': 0.8902350171923165, '1.2': 25.90464148...</td>\n      <td>{'1.1': 0.8771802325581461, '1.2': 6.564680232...</td>\n      <td>1.1</td>\n      <td>False</td>\n    </tr>\n    <tr>\n      <th>2</th>\n      <td>20230612_112630_standard_comp_to_training_D1_s...</td>\n      <td>[[1125, 1324], [3519, 3720], [5815, 6014], [76...</td>\n      <td>[916, 929]</td>\n      <td>20230612_112630_standard_comp_to_training_D1_s...</td>\n      <td>/scratch/back_up/reward_competition_extention/...</td>\n      <td>[1.1, 1.2]</td>\n      <td>7977066</td>\n      <td>76318450</td>\n      <td>[[1126742, 1326741], [3526740, 3726740], [5826...</td>\n      <td>[917544, 931741]</td>\n      <td>...</td>\n      <td>2</td>\n      <td>13</td>\n      <td>916</td>\n      <td>929</td>\n      <td>{'1.1': [[[61.34 18.  ], [58.6  18.38], [60.25...</td>\n      <td>{'1.1': [[60.25, 19.8], [60.78, 19.5], [60.78,...</td>\n      <td>{'1.1': 21.949273716111037, '1.2': 1.066196743...</td>\n      <td>{'1.1': 14.970930232558146, '1.2': 0.908430232...</td>\n      <td>1.2</td>\n      <td>False</td>\n    </tr>\n    <tr>\n      <th>3</th>\n      <td>20230612_112630_standard_comp_to_training_D1_s...</td>\n      <td>[[1125, 1324], [3519, 3720], [5815, 6014], [76...</td>\n      <td>[929, 948]</td>\n      <td>20230612_112630_standard_comp_to_training_D1_s...</td>\n      <td>/scratch/back_up/reward_competition_extention/...</td>\n      <td>[1.1, 1.2]</td>\n      <td>7977066</td>\n      <td>76318450</td>\n      <td>[[1126742, 1326741], [3526740, 3726740], [5826...</td>\n      <td>[932141, 950539]</td>\n      <td>...</td>\n      <td>2</td>\n      <td>19</td>\n      <td>929</td>\n      <td>948</td>\n      <td>{'1.1': [[[59.7   15.125], [60.84 16.25], [61....</td>\n      <td>{'1.1': [[61.47, 16.03], [61.22, 15.4], [61.0,...</td>\n      <td>{'1.1': 25.589320821862895, '1.2': 0.630309449...</td>\n      <td>{'1.1': 16.189680232558146, '1.2': 0.345930232...</td>\n      <td>1.2</td>\n      <td>False</td>\n    </tr>\n    <tr>\n      <th>4</th>\n      <td>20230612_112630_standard_comp_to_training_D1_s...</td>\n      <td>[[1125, 1324], [3519, 3720], [5815, 6014], [76...</td>\n      <td>[961, 983]</td>\n      <td>20230612_112630_standard_comp_to_training_D1_s...</td>\n      <td>/scratch/back_up/reward_competition_extention/...</td>\n      <td>[1.1, 1.2]</td>\n      <td>7977066</td>\n      <td>76318450</td>\n      <td>[[1126742, 1326741], [3526740, 3726740], [5826...</td>\n      <td>[963342, 986354]</td>\n      <td>...</td>\n      <td>2</td>\n      <td>22</td>\n      <td>961</td>\n      <td>983</td>\n      <td>{'1.1': [[[58.62 12.96], [60.28 14.03], [59.75...</td>\n      <td>{'1.1': [[59.75, 13.06], [59.88, 14.26], [59.9...</td>\n      <td>{'1.1': 26.99243314043086, '1.2': 0.6916250894...</td>\n      <td>{'1.1': 14.470930232558146, '1.2': 0.408430232...</td>\n      <td>1.2</td>\n      <td>False</td>\n    </tr>\n  </tbody>\n</table>\n<p>5 rows × 25 columns</p>\n</div>"
     },
     "execution_count": 46,
     "metadata": {},
     "output_type": "execute_result"
    }
   ],
   "source": [
    "nose_poke_full_df.head()"
   ],
   "metadata": {
    "collapsed": false,
    "ExecuteTime": {
     "start_time": "2024-02-23T14:11:04.771557Z",
     "end_time": "2024-02-23T14:11:05.551708Z"
    }
   }
  },
  {
   "cell_type": "code",
   "execution_count": 47,
   "outputs": [],
   "source": [
    "for i in range(len(manual_df.columns)):\n",
    "    nose_poke_full_df.loc[(manual_df['Unnamed: 0'][i]),'entry_winner'] = manual_df['entry_winner'][i]"
   ],
   "metadata": {
    "collapsed": false,
    "ExecuteTime": {
     "start_time": "2024-02-23T14:11:05.551708Z",
     "end_time": "2024-02-23T14:11:05.574125Z"
    }
   }
  },
  {
   "cell_type": "markdown",
   "source": [
    "# Make sure that whatever you changed is correct"
   ],
   "metadata": {
    "collapsed": false
   }
  },
  {
   "cell_type": "code",
   "execution_count": 51,
   "outputs": [
    {
     "data": {
      "text/plain": "    box_1_port_entry_frames entry_winner  contested\n155            [9720, 9868]          1.2       True\n156            [9870, 9899]          1.2       True\n165          [10516, 10518]          1.2       True\n167          [10640, 10723]          1.1       True\n211          [14368, 14606]          1.2       True\n266          [17958, 17975]          1.2       True\n267          [17977, 17980]          1.2       True\n268          [17987, 17988]          1.2       True\n341          [21890, 21941]          1.1       True\n379          [23424, 23441]          1.1       True\n386          [23979, 23982]          1.1       True\n388          [23993, 24009]          1.1       True\n405          [24495, 24507]          1.2       True\n445          [25844, 25845]          1.1       True\n502          [28127, 28149]          1.2       True\n505          [28387, 28391]          1.1       True\n584          [30728, 30732]          1.1       True\n586          [30840, 30895]          1.1       True\n603          [31985, 31987]          1.2       True\n604          [31998, 32017]          1.1       True\n616          [33826, 34091]          1.2       True",
      "text/html": "<div>\n<style scoped>\n    .dataframe tbody tr th:only-of-type {\n        vertical-align: middle;\n    }\n\n    .dataframe tbody tr th {\n        vertical-align: top;\n    }\n\n    .dataframe thead th {\n        text-align: right;\n    }\n</style>\n<table border=\"1\" class=\"dataframe\">\n  <thead>\n    <tr style=\"text-align: right;\">\n      <th></th>\n      <th>box_1_port_entry_frames</th>\n      <th>entry_winner</th>\n      <th>contested</th>\n    </tr>\n  </thead>\n  <tbody>\n    <tr>\n      <th>155</th>\n      <td>[9720, 9868]</td>\n      <td>1.2</td>\n      <td>True</td>\n    </tr>\n    <tr>\n      <th>156</th>\n      <td>[9870, 9899]</td>\n      <td>1.2</td>\n      <td>True</td>\n    </tr>\n    <tr>\n      <th>165</th>\n      <td>[10516, 10518]</td>\n      <td>1.2</td>\n      <td>True</td>\n    </tr>\n    <tr>\n      <th>167</th>\n      <td>[10640, 10723]</td>\n      <td>1.1</td>\n      <td>True</td>\n    </tr>\n    <tr>\n      <th>211</th>\n      <td>[14368, 14606]</td>\n      <td>1.2</td>\n      <td>True</td>\n    </tr>\n    <tr>\n      <th>266</th>\n      <td>[17958, 17975]</td>\n      <td>1.2</td>\n      <td>True</td>\n    </tr>\n    <tr>\n      <th>267</th>\n      <td>[17977, 17980]</td>\n      <td>1.2</td>\n      <td>True</td>\n    </tr>\n    <tr>\n      <th>268</th>\n      <td>[17987, 17988]</td>\n      <td>1.2</td>\n      <td>True</td>\n    </tr>\n    <tr>\n      <th>341</th>\n      <td>[21890, 21941]</td>\n      <td>1.1</td>\n      <td>True</td>\n    </tr>\n    <tr>\n      <th>379</th>\n      <td>[23424, 23441]</td>\n      <td>1.1</td>\n      <td>True</td>\n    </tr>\n    <tr>\n      <th>386</th>\n      <td>[23979, 23982]</td>\n      <td>1.1</td>\n      <td>True</td>\n    </tr>\n    <tr>\n      <th>388</th>\n      <td>[23993, 24009]</td>\n      <td>1.1</td>\n      <td>True</td>\n    </tr>\n    <tr>\n      <th>405</th>\n      <td>[24495, 24507]</td>\n      <td>1.2</td>\n      <td>True</td>\n    </tr>\n    <tr>\n      <th>445</th>\n      <td>[25844, 25845]</td>\n      <td>1.1</td>\n      <td>True</td>\n    </tr>\n    <tr>\n      <th>502</th>\n      <td>[28127, 28149]</td>\n      <td>1.2</td>\n      <td>True</td>\n    </tr>\n    <tr>\n      <th>505</th>\n      <td>[28387, 28391]</td>\n      <td>1.1</td>\n      <td>True</td>\n    </tr>\n    <tr>\n      <th>584</th>\n      <td>[30728, 30732]</td>\n      <td>1.1</td>\n      <td>True</td>\n    </tr>\n    <tr>\n      <th>586</th>\n      <td>[30840, 30895]</td>\n      <td>1.1</td>\n      <td>True</td>\n    </tr>\n    <tr>\n      <th>603</th>\n      <td>[31985, 31987]</td>\n      <td>1.2</td>\n      <td>True</td>\n    </tr>\n    <tr>\n      <th>604</th>\n      <td>[31998, 32017]</td>\n      <td>1.1</td>\n      <td>True</td>\n    </tr>\n    <tr>\n      <th>616</th>\n      <td>[33826, 34091]</td>\n      <td>1.2</td>\n      <td>True</td>\n    </tr>\n  </tbody>\n</table>\n</div>"
     },
     "execution_count": 51,
     "metadata": {},
     "output_type": "execute_result"
    }
   ],
   "source": [
    "filtered_df = nose_poke_full_df[nose_poke_full_df['contested'] == True]\n",
    "filtered_df[['box_1_port_entry_frames', 'entry_winner', 'contested']]"
   ],
   "metadata": {
    "collapsed": false,
    "ExecuteTime": {
     "start_time": "2024-02-23T15:13:34.592622Z",
     "end_time": "2024-02-23T15:13:34.632911Z"
    }
   }
  },
  {
   "cell_type": "code",
   "execution_count": 49,
   "outputs": [],
   "source": [
    "nose_poke_full_df.to_csv(full_csv_combined_save_file_path+full_csv_combined_save_name)"
   ],
   "metadata": {
    "collapsed": false,
    "ExecuteTime": {
     "start_time": "2024-02-23T14:11:08.557165Z",
     "end_time": "2024-02-23T14:11:13.840894Z"
    }
   }
  },
  {
   "cell_type": "markdown",
   "source": [],
   "metadata": {
    "collapsed": false
   }
  }
 ],
 "metadata": {
  "kernelspec": {
   "display_name": "Python 3",
   "language": "python",
   "name": "python3"
  },
  "language_info": {
   "codemirror_mode": {
    "name": "ipython",
    "version": 2
   },
   "file_extension": ".py",
   "mimetype": "text/x-python",
   "name": "python",
   "nbconvert_exporter": "python",
   "pygments_lexer": "ipython2",
   "version": "2.7.6"
  }
 },
 "nbformat": 4,
 "nbformat_minor": 0
}
