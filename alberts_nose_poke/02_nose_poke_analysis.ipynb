{
 "cells": [
  {
   "cell_type": "markdown",
   "metadata": {
    "cell_id": "c3a02adc9e884466bc8c79db549cc3d2",
    "deepnote_cell_type": "text-cell-h1",
    "formattedRanges": [
     {
      "fromCodePoint": 0,
      "marks": {
       "bold": true,
       "underline": true
      },
      "toCodePoint": 17,
      "type": "marks"
     }
    ]
   },
   "source": [
    "# Nose poke analysis"
   ]
  },
  {
   "cell_type": "markdown",
   "metadata": {
    "cell_id": "4546bee655b14a5dbf393161f1228e60",
    "deepnote_cell_type": "text-cell-p",
    "formattedRanges": []
   },
   "source": [
    "Brief 1-2 sentence description of notebook."
   ]
  },
  {
   "cell_type": "code",
   "execution_count": 1,
   "metadata": {
    "ExecuteTime": {
     "end_time": "2024-02-23T09:37:12.733167Z",
     "start_time": "2024-02-23T09:37:12.294329Z"
    },
    "execution": {
     "iopub.execute_input": "2024-05-07T15:57:51.865414Z",
     "iopub.status.busy": "2024-05-07T15:57:51.865414Z",
     "iopub.status.idle": "2024-05-07T15:57:52.150735Z",
     "shell.execute_reply": "2024-05-07T15:57:52.150735Z",
     "shell.execute_reply.started": "2024-05-07T15:57:51.865414Z"
    }
   },
   "outputs": [],
   "source": [
    "import os\n",
    "import glob\n",
    "import git\n",
    "import sys\n"
   ]
  },
  {
   "cell_type": "code",
   "execution_count": 2,
   "metadata": {
    "ExecuteTime": {
     "end_time": "2024-02-23T09:37:12.773860Z",
     "start_time": "2024-02-23T09:37:12.309543Z"
    },
    "cell_id": "03b495cefa6a4798a44c7f2e4c6a3ea7",
    "deepnote_cell_type": "code",
    "deepnote_to_be_reexecuted": false,
    "execution": {
     "iopub.execute_input": "2024-05-07T15:57:52.150735Z",
     "iopub.status.busy": "2024-05-07T15:57:52.150735Z",
     "iopub.status.idle": "2024-05-07T15:57:55.490418Z",
     "shell.execute_reply": "2024-05-07T15:57:55.490418Z",
     "shell.execute_reply.started": "2024-05-07T15:57:52.150735Z"
    },
    "execution_millis": 21,
    "execution_start": 1691424003626,
    "source_hash": null
   },
   "outputs": [],
   "source": [
    "# Imports of all used packages and libraries\n",
    "import numpy as np\n",
    "import pandas as pd\n",
    "# import seaborn as sns\n",
    "import matplotlib as mpl\n",
    "import matplotlib.pyplot as plt\n",
    "import h5py\n",
    "from scipy.interpolate import interp1d\n",
    "from scipy.signal import savgol_filter\n"
   ]
  },
  {
   "cell_type": "code",
   "execution_count": 3,
   "metadata": {
    "ExecuteTime": {
     "end_time": "2024-02-23T09:37:12.875298Z",
     "start_time": "2024-02-23T09:37:12.317573Z"
    },
    "execution": {
     "iopub.execute_input": "2024-05-07T15:57:55.490418Z",
     "iopub.status.busy": "2024-05-07T15:57:55.490418Z",
     "iopub.status.idle": "2024-05-07T15:57:55.570499Z",
     "shell.execute_reply": "2024-05-07T15:57:55.570499Z",
     "shell.execute_reply.started": "2024-05-07T15:57:55.490418Z"
    }
   },
   "outputs": [],
   "source": [
    "git_repo = git.Repo(\".\", search_parent_directories=True)\n",
    "git_root = git_repo.git.rev_parse(\"--show-toplevel\")"
   ]
  },
  {
   "cell_type": "code",
   "execution_count": 4,
   "metadata": {
    "ExecuteTime": {
     "end_time": "2024-02-23T09:37:12.875298Z",
     "start_time": "2024-02-23T09:37:12.644453Z"
    },
    "execution": {
     "iopub.execute_input": "2024-05-07T15:57:55.570499Z",
     "iopub.status.busy": "2024-05-07T15:57:55.570499Z",
     "iopub.status.idle": "2024-05-07T15:57:55.584710Z",
     "shell.execute_reply": "2024-05-07T15:57:55.584710Z",
     "shell.execute_reply.started": "2024-05-07T15:57:55.570499Z"
    }
   },
   "outputs": [
    {
     "data": {
      "text/plain": [
       "'C:/Users/short/Documents/GitHub/nose_poke_identifier'"
      ]
     },
     "execution_count": 4,
     "metadata": {},
     "output_type": "execute_result"
    }
   ],
   "source": [
    "git_root"
   ]
  },
  {
   "cell_type": "code",
   "execution_count": 5,
   "metadata": {
    "ExecuteTime": {
     "end_time": "2024-02-23T09:37:12.875298Z",
     "start_time": "2024-02-23T09:37:12.664488Z"
    },
    "execution": {
     "iopub.execute_input": "2024-05-07T15:57:55.584710Z",
     "iopub.status.busy": "2024-05-07T15:57:55.584710Z",
     "iopub.status.idle": "2024-05-07T15:57:55.595325Z",
     "shell.execute_reply": "2024-05-07T15:57:55.595325Z",
     "shell.execute_reply.started": "2024-05-07T15:57:55.584710Z"
    }
   },
   "outputs": [],
   "source": [
    "sys.path.insert(0, os.path.join(git_root, 'src'))"
   ]
  },
  {
   "cell_type": "code",
   "execution_count": 6,
   "metadata": {
    "ExecuteTime": {
     "end_time": "2024-02-23T09:37:12.875298Z",
     "start_time": "2024-02-23T09:37:12.677565Z"
    },
    "execution": {
     "iopub.execute_input": "2024-05-07T15:57:55.599867Z",
     "iopub.status.busy": "2024-05-07T15:57:55.595325Z",
     "iopub.status.idle": "2024-05-07T15:57:55.615858Z",
     "shell.execute_reply": "2024-05-07T15:57:55.615858Z",
     "shell.execute_reply.started": "2024-05-07T15:57:55.599867Z"
    }
   },
   "outputs": [],
   "source": [
    "import utilities.helper\n",
    "import sleap.process_pose"
   ]
  },
  {
   "cell_type": "code",
   "execution_count": 7,
   "metadata": {
    "ExecuteTime": {
     "end_time": "2024-02-23T09:37:12.875298Z",
     "start_time": "2024-02-23T09:37:12.690021Z"
    },
    "execution": {
     "iopub.execute_input": "2024-05-07T15:57:55.615858Z",
     "iopub.status.busy": "2024-05-07T15:57:55.615858Z",
     "iopub.status.idle": "2024-05-07T15:57:55.631111Z",
     "shell.execute_reply": "2024-05-07T15:57:55.631111Z",
     "shell.execute_reply.started": "2024-05-07T15:57:55.615858Z"
    }
   },
   "outputs": [],
   "source": [
    "# sns.set('notebook', 'ticks', font_scale=1.2)\n",
    "mpl.rcParams['figure.figsize'] = [15,6]"
   ]
  },
  {
   "cell_type": "markdown",
   "metadata": {
    "cell_id": "d290bac2c17940bfbc0f9296beaf70e5",
    "deepnote_cell_type": "text-cell-h2",
    "formattedRanges": []
   },
   "source": [
    "## Inputs & Data"
   ]
  },
  {
   "cell_type": "markdown",
   "metadata": {
    "cell_id": "e528ce19c608425292151930d380f49f",
    "deepnote_cell_type": "text-cell-p",
    "formattedRanges": []
   },
   "source": [
    "Explanation of each input and where it comes from."
   ]
  },
  {
   "cell_type": "code",
   "execution_count": 8,
   "metadata": {
    "ExecuteTime": {
     "end_time": "2024-02-23T09:37:12.954210Z",
     "start_time": "2024-02-23T09:37:12.707474Z"
    },
    "cell_id": "6cf83a5811054461a718a71673d09aab",
    "deepnote_cell_type": "code",
    "deepnote_to_be_reexecuted": false,
    "execution": {
     "iopub.execute_input": "2024-05-07T15:57:55.631111Z",
     "iopub.status.busy": "2024-05-07T15:57:55.631111Z",
     "iopub.status.idle": "2024-05-07T15:57:57.201410Z",
     "shell.execute_reply": "2024-05-07T15:57:57.201410Z",
     "shell.execute_reply.started": "2024-05-07T15:57:55.631111Z"
    },
    "execution_millis": 373,
    "execution_start": 1691424003628,
    "source_hash": null
   },
   "outputs": [
    {
     "ename": "FileNotFoundError",
     "evalue": "[Errno 2] No such file or directory: './proc/rce_pilot_2_trodes_metadata.pkl'",
     "output_type": "error",
     "traceback": [
      "\u001b[1;31m---------------------------------------------------------------------------\u001b[0m",
      "\u001b[1;31mFileNotFoundError\u001b[0m                         Traceback (most recent call last)",
      "Cell \u001b[1;32mIn[8], line 7\u001b[0m\n\u001b[0;32m      1\u001b[0m \u001b[38;5;66;03m# Inputs and Required data loading\u001b[39;00m\n\u001b[0;32m      2\u001b[0m \u001b[38;5;66;03m# input varaible names are in all caps snake case\u001b[39;00m\n\u001b[0;32m      3\u001b[0m \u001b[38;5;66;03m# Whenever an input changes or is used for processing \u001b[39;00m\n\u001b[0;32m      4\u001b[0m \u001b[38;5;66;03m# the vairables are all lower in snake case\u001b[39;00m\n\u001b[0;32m      5\u001b[0m \u001b[38;5;66;03m# NOSE_POKE_DF = pd.read_pickle(r\"./proc/rce_pilot_2_nose_pokes.pkl\")\u001b[39;00m\n\u001b[1;32m----> 7\u001b[0m NOSE_POKE_DF \u001b[38;5;241m=\u001b[39m pd\u001b[38;5;241m.\u001b[39mread_pickle(\u001b[38;5;124mr\u001b[39m\u001b[38;5;124m\"\u001b[39m\u001b[38;5;124m./proc/rce_pilot_2_trodes_metadata.pkl\u001b[39m\u001b[38;5;124m\"\u001b[39m)\n\u001b[0;32m      9\u001b[0m OUTPUT_DIR \u001b[38;5;241m=\u001b[39m \u001b[38;5;124mr\u001b[39m\u001b[38;5;124m\"\u001b[39m\u001b[38;5;124m./proc\u001b[39m\u001b[38;5;124m\"\u001b[39m \u001b[38;5;66;03m# where data is saved should always be shown in the inputs\u001b[39;00m\n\u001b[0;32m     10\u001b[0m MED_PC_WIDTH \u001b[38;5;241m=\u001b[39m \u001b[38;5;241m29.5\u001b[39m\n",
      "File \u001b[1;32m~\\anaconda3\\Lib\\site-packages\\pandas\\io\\pickle.py:189\u001b[0m, in \u001b[0;36mread_pickle\u001b[1;34m(filepath_or_buffer, compression, storage_options)\u001b[0m\n\u001b[0;32m    125\u001b[0m \u001b[38;5;250m\u001b[39m\u001b[38;5;124;03m\"\"\"\u001b[39;00m\n\u001b[0;32m    126\u001b[0m \u001b[38;5;124;03mLoad pickled pandas object (or any object) from file.\u001b[39;00m\n\u001b[0;32m    127\u001b[0m \n\u001b[1;32m   (...)\u001b[0m\n\u001b[0;32m    186\u001b[0m \u001b[38;5;124;03m4    4    9\u001b[39;00m\n\u001b[0;32m    187\u001b[0m \u001b[38;5;124;03m\"\"\"\u001b[39;00m\n\u001b[0;32m    188\u001b[0m excs_to_catch \u001b[38;5;241m=\u001b[39m (\u001b[38;5;167;01mAttributeError\u001b[39;00m, \u001b[38;5;167;01mImportError\u001b[39;00m, \u001b[38;5;167;01mModuleNotFoundError\u001b[39;00m, \u001b[38;5;167;01mTypeError\u001b[39;00m)\n\u001b[1;32m--> 189\u001b[0m \u001b[38;5;28;01mwith\u001b[39;00m get_handle(\n\u001b[0;32m    190\u001b[0m     filepath_or_buffer,\n\u001b[0;32m    191\u001b[0m     \u001b[38;5;124m\"\u001b[39m\u001b[38;5;124mrb\u001b[39m\u001b[38;5;124m\"\u001b[39m,\n\u001b[0;32m    192\u001b[0m     compression\u001b[38;5;241m=\u001b[39mcompression,\n\u001b[0;32m    193\u001b[0m     is_text\u001b[38;5;241m=\u001b[39m\u001b[38;5;28;01mFalse\u001b[39;00m,\n\u001b[0;32m    194\u001b[0m     storage_options\u001b[38;5;241m=\u001b[39mstorage_options,\n\u001b[0;32m    195\u001b[0m ) \u001b[38;5;28;01mas\u001b[39;00m handles:\n\u001b[0;32m    196\u001b[0m     \u001b[38;5;66;03m# 1) try standard library Pickle\u001b[39;00m\n\u001b[0;32m    197\u001b[0m     \u001b[38;5;66;03m# 2) try pickle_compat (older pandas version) to handle subclass changes\u001b[39;00m\n\u001b[0;32m    198\u001b[0m     \u001b[38;5;66;03m# 3) try pickle_compat with latin-1 encoding upon a UnicodeDecodeError\u001b[39;00m\n\u001b[0;32m    200\u001b[0m     \u001b[38;5;28;01mtry\u001b[39;00m:\n\u001b[0;32m    201\u001b[0m         \u001b[38;5;66;03m# TypeError for Cython complaints about object.__new__ vs Tick.__new__\u001b[39;00m\n\u001b[0;32m    202\u001b[0m         \u001b[38;5;28;01mtry\u001b[39;00m:\n",
      "File \u001b[1;32m~\\anaconda3\\Lib\\site-packages\\pandas\\io\\common.py:872\u001b[0m, in \u001b[0;36mget_handle\u001b[1;34m(path_or_buf, mode, encoding, compression, memory_map, is_text, errors, storage_options)\u001b[0m\n\u001b[0;32m    863\u001b[0m         handle \u001b[38;5;241m=\u001b[39m \u001b[38;5;28mopen\u001b[39m(\n\u001b[0;32m    864\u001b[0m             handle,\n\u001b[0;32m    865\u001b[0m             ioargs\u001b[38;5;241m.\u001b[39mmode,\n\u001b[1;32m   (...)\u001b[0m\n\u001b[0;32m    868\u001b[0m             newline\u001b[38;5;241m=\u001b[39m\u001b[38;5;124m\"\u001b[39m\u001b[38;5;124m\"\u001b[39m,\n\u001b[0;32m    869\u001b[0m         )\n\u001b[0;32m    870\u001b[0m     \u001b[38;5;28;01melse\u001b[39;00m:\n\u001b[0;32m    871\u001b[0m         \u001b[38;5;66;03m# Binary mode\u001b[39;00m\n\u001b[1;32m--> 872\u001b[0m         handle \u001b[38;5;241m=\u001b[39m \u001b[38;5;28mopen\u001b[39m(handle, ioargs\u001b[38;5;241m.\u001b[39mmode)\n\u001b[0;32m    873\u001b[0m     handles\u001b[38;5;241m.\u001b[39mappend(handle)\n\u001b[0;32m    875\u001b[0m \u001b[38;5;66;03m# Convert BytesIO or file objects passed with an encoding\u001b[39;00m\n",
      "\u001b[1;31mFileNotFoundError\u001b[0m: [Errno 2] No such file or directory: './proc/rce_pilot_2_trodes_metadata.pkl'"
     ]
    }
   ],
   "source": [
    "# Inputs and Required data loading\n",
    "# input varaible names are in all caps snake case\n",
    "# Whenever an input changes or is used for processing \n",
    "# the vairables are all lower in snake case\n",
    "# NOSE_POKE_DF = pd.read_pickle(r\"./proc/rce_pilot_2_nose_pokes.pkl\")\n",
    "\n",
    "NOSE_POKE_DF = pd.read_pickle(r\"\"C:\\Users\\short\\Documents\\GitHub\\nose_poke_identifier\\proc\\rce_pilot_2_trodes_metadata.pkl)\n",
    "\n",
    "OUTPUT_DIR = r\"./proc\" # where data is saved should always be shown in the inputs\n",
    "MED_PC_WIDTH = 29.5\n",
    "MED_PC_HEIGHT = 24\n",
    "FRAME_RATE = 22\n",
    "WINDOW_SIZE = 25\n",
    "DISTANCE_THRESHOLD = 2"
   ]
  },
  {
   "cell_type": "code",
   "execution_count": null,
   "metadata": {
    "ExecuteTime": {
     "end_time": "2024-02-23T09:37:12.971607Z",
     "start_time": "2024-02-23T09:37:12.773860Z"
    },
    "execution": {
     "iopub.status.busy": "2024-05-07T15:57:57.201410Z",
     "iopub.status.idle": "2024-05-07T15:57:57.201410Z",
     "shell.execute_reply": "2024-05-07T15:57:57.201410Z",
     "shell.execute_reply.started": "2024-05-07T15:57:57.201410Z"
    }
   },
   "outputs": [],
   "source": [
    "START_STOP_FRAME_DF = pd.read_excel(\"./rce_per_subject_start_stop_video_frame.xlsx\").dropna(subset=[\"file_path\"])"
   ]
  },
  {
   "cell_type": "code",
   "execution_count": null,
   "metadata": {
    "ExecuteTime": {
     "end_time": "2024-02-23T09:37:13.920235Z",
     "start_time": "2024-02-23T09:37:12.818696Z"
    },
    "execution": {
     "iopub.status.busy": "2024-05-07T15:57:57.201410Z",
     "iopub.status.idle": "2024-05-07T15:57:57.201410Z",
     "shell.execute_reply": "2024-05-07T15:57:57.201410Z",
     "shell.execute_reply.started": "2024-05-07T15:57:57.201410Z"
    }
   },
   "outputs": [],
   "source": [
    "NOSE_POKE_DF.head()"
   ]
  },
  {
   "cell_type": "markdown",
   "metadata": {
    "cell_id": "e3ee4891d43a4ac287413afc552ca289",
    "deepnote_cell_type": "text-cell-h2",
    "formattedRanges": []
   },
   "source": [
    "## Outputs"
   ]
  },
  {
   "cell_type": "markdown",
   "metadata": {
    "cell_id": "9ccbf6cc70fd4d379fa29317f733771f",
    "deepnote_cell_type": "text-cell-p",
    "formattedRanges": []
   },
   "source": [
    "Describe each output that the notebook creates. "
   ]
  },
  {
   "cell_type": "markdown",
   "metadata": {
    "cell_id": "fc8e8920a6944918a15fac575cdf6e78",
    "deepnote_cell_type": "text-cell-bullet",
    "formattedRanges": []
   },
   "source": [
    "- Is it a plot or is it data?"
   ]
  },
  {
   "cell_type": "markdown",
   "metadata": {
    "cell_id": "1e639d4776a84aa9ac8ded2e14fa57db",
    "deepnote_cell_type": "text-cell-bullet",
    "formattedRanges": []
   },
   "source": [
    "- How valuable is the output and why is it valuable or useful?"
   ]
  },
  {
   "cell_type": "code",
   "execution_count": null,
   "metadata": {
    "ExecuteTime": {
     "end_time": "2024-02-23T09:37:13.939544Z",
     "start_time": "2024-02-23T09:37:13.930545Z"
    },
    "execution": {
     "iopub.status.busy": "2024-05-07T15:57:57.201410Z",
     "iopub.status.idle": "2024-05-07T15:57:57.201410Z",
     "shell.execute_reply": "2024-05-07T15:57:57.201410Z",
     "shell.execute_reply.started": "2024-05-07T15:57:57.201410Z"
    }
   },
   "outputs": [],
   "source": [
    "# Inputs and Required data loading\n",
    "# input varaible names are in all caps snake case\n",
    "# Whenever an input changes or is used for processing \n",
    "# the vairables are all lower in snake case\n",
    "OUTPUT_DIR = r\"./proc/\" # where data is saved should always be shown in the inputs\n",
    "os.makedirs(OUTPUT_DIR, exist_ok=True)\n",
    "OUTPUT_PREFIX = \"rce_pilot_2\""
   ]
  },
  {
   "cell_type": "code",
   "execution_count": null,
   "metadata": {
    "ExecuteTime": {
     "end_time": "2024-02-23T09:37:14.031182Z",
     "start_time": "2024-02-23T09:37:13.939544Z"
    },
    "execution": {
     "iopub.status.busy": "2024-05-07T15:57:57.215978Z",
     "iopub.status.idle": "2024-05-07T15:57:57.215978Z",
     "shell.execute_reply": "2024-05-07T15:57:57.215978Z",
     "shell.execute_reply.started": "2024-05-07T15:57:57.215978Z"
    }
   },
   "outputs": [],
   "source": [
    "NOSE_POKE_PKL = \"{}_nose_poke_analysis.pkl\".format(OUTPUT_PREFIX)"
   ]
  },
  {
   "cell_type": "markdown",
   "metadata": {
    "cell_id": "8999d19b6b7d4d63bc90f0b0bd9ab085",
    "deepnote_cell_type": "text-cell-h2",
    "formattedRanges": []
   },
   "source": [
    "## Processing"
   ]
  },
  {
   "cell_type": "markdown",
   "metadata": {
    "cell_id": "9b36cdf08567463082b005cb0dec684b",
    "deepnote_cell_type": "text-cell-p",
    "formattedRanges": []
   },
   "source": [
    "Describe what is done to the data here and how inputs are manipulated to generate outputs. "
   ]
  },
  {
   "cell_type": "code",
   "execution_count": null,
   "metadata": {
    "ExecuteTime": {
     "end_time": "2024-02-23T09:37:14.111605Z",
     "start_time": "2024-02-23T09:37:13.959847Z"
    },
    "execution": {
     "iopub.status.busy": "2024-05-07T15:57:57.215978Z",
     "iopub.status.idle": "2024-05-07T15:57:57.215978Z",
     "shell.execute_reply": "2024-05-07T15:57:57.215978Z",
     "shell.execute_reply.started": "2024-05-07T15:57:57.215978Z"
    }
   },
   "outputs": [],
   "source": [
    "NOSE_POKE_DF.columns"
   ]
  },
  {
   "cell_type": "code",
   "execution_count": null,
   "metadata": {
    "ExecuteTime": {
     "end_time": "2024-02-23T09:37:14.125553Z",
     "start_time": "2024-02-23T09:37:13.980484Z"
    },
    "execution": {
     "iopub.status.busy": "2024-05-07T15:57:57.215978Z",
     "iopub.status.idle": "2024-05-07T15:57:57.215978Z",
     "shell.execute_reply": "2024-05-07T15:57:57.215978Z",
     "shell.execute_reply.started": "2024-05-07T15:57:57.215978Z"
    }
   },
   "outputs": [],
   "source": [
    "contested_df = NOSE_POKE_DF[NOSE_POKE_DF[\"contested\"] == True]"
   ]
  },
  {
   "cell_type": "code",
   "execution_count": null,
   "metadata": {
    "ExecuteTime": {
     "end_time": "2024-02-23T09:37:14.127347Z",
     "start_time": "2024-02-23T09:37:13.987190Z"
    },
    "execution": {
     "iopub.status.busy": "2024-05-07T15:57:57.215978Z",
     "iopub.status.idle": "2024-05-07T15:57:57.215978Z",
     "shell.execute_reply": "2024-05-07T15:57:57.215978Z",
     "shell.execute_reply.started": "2024-05-07T15:57:57.215978Z"
    }
   },
   "outputs": [],
   "source": [
    "NOSE_POKE_DF[\"sliced_locations\"].iloc[0][\"1.1\"].shape"
   ]
  },
  {
   "cell_type": "code",
   "execution_count": null,
   "metadata": {
    "ExecuteTime": {
     "end_time": "2024-02-23T09:37:14.127347Z",
     "start_time": "2024-02-23T09:37:14.011239Z"
    },
    "execution": {
     "iopub.status.busy": "2024-05-07T15:57:57.215978Z",
     "iopub.status.idle": "2024-05-07T15:57:57.215978Z",
     "shell.execute_reply": "2024-05-07T15:57:57.215978Z",
     "shell.execute_reply.started": "2024-05-07T15:57:57.215978Z"
    }
   },
   "outputs": [],
   "source": [
    "NOSE_POKE_DF[\"entry_length\"].iloc[0]"
   ]
  },
  {
   "cell_type": "code",
   "execution_count": null,
   "metadata": {
    "ExecuteTime": {
     "end_time": "2024-02-23T09:37:16.571401Z",
     "start_time": "2024-02-23T09:37:14.031182Z"
    },
    "execution": {
     "iopub.status.busy": "2024-05-07T15:57:57.231639Z",
     "iopub.status.idle": "2024-05-07T15:57:57.231639Z",
     "shell.execute_reply": "2024-05-07T15:57:57.231639Z",
     "shell.execute_reply.started": "2024-05-07T15:57:57.231639Z"
    }
   },
   "outputs": [],
   "source": [
    "contested_df.head()"
   ]
  },
  {
   "cell_type": "code",
   "execution_count": null,
   "metadata": {
    "ExecuteTime": {
     "end_time": "2024-02-23T09:37:16.652464Z",
     "start_time": "2024-02-23T09:37:16.580629Z"
    },
    "collapsed": false,
    "execution": {
     "iopub.status.busy": "2024-05-07T15:57:57.231639Z",
     "iopub.status.idle": "2024-05-07T15:57:57.231639Z",
     "shell.execute_reply": "2024-05-07T15:57:57.231639Z",
     "shell.execute_reply.started": "2024-05-07T15:57:57.231639Z"
    },
    "jupyter": {
     "outputs_hidden": false
    }
   },
   "outputs": [],
   "source": [
    "user_df = contested_df[['video_name',\n",
    "                        'all_subjects',\n",
    "                        'box_1_port_entry_timestamps',\n",
    "                        'entry_winner']].copy()"
   ]
  },
  {
   "cell_type": "code",
   "execution_count": null,
   "metadata": {
    "ExecuteTime": {
     "end_time": "2024-02-23T09:44:26.059192Z",
     "start_time": "2024-02-23T09:44:26.054619Z"
    },
    "collapsed": false,
    "execution": {
     "iopub.status.busy": "2024-05-07T15:57:57.231639Z",
     "iopub.status.idle": "2024-05-07T15:57:57.231639Z",
     "shell.execute_reply": "2024-05-07T15:57:57.231639Z",
     "shell.execute_reply.started": "2024-05-07T15:57:57.231639Z"
    },
    "jupyter": {
     "outputs_hidden": false
    }
   },
   "outputs": [],
   "source": [
    "user_df.head()"
   ]
  },
  {
   "cell_type": "code",
   "execution_count": null,
   "metadata": {
    "ExecuteTime": {
     "end_time": "2024-02-23T09:44:23.653619Z",
     "start_time": "2024-02-23T09:44:23.619174Z"
    },
    "collapsed": false,
    "execution": {
     "iopub.status.busy": "2024-05-07T15:57:57.231639Z",
     "iopub.status.idle": "2024-05-07T15:57:57.231639Z",
     "shell.execute_reply": "2024-05-07T15:57:57.231639Z",
     "shell.execute_reply.started": "2024-05-07T15:57:57.231639Z"
    },
    "jupyter": {
     "outputs_hidden": false
    }
   },
   "outputs": [],
   "source": [
    "video_name = user_df['video_name'].iloc[0]\n",
    "video_name = r\"C:\\Users\\yongc\\Desktop\\Leo Code\\\\\" +video_name + 'contested_frames.csv'"
   ]
  },
  {
   "cell_type": "code",
   "execution_count": null,
   "metadata": {
    "ExecuteTime": {
     "end_time": "2024-02-23T09:48:33.264103Z",
     "start_time": "2024-02-23T09:48:33.118641Z"
    },
    "collapsed": false,
    "execution": {
     "iopub.status.busy": "2024-05-07T15:57:57.231639Z",
     "iopub.status.idle": "2024-05-07T15:57:57.231639Z",
     "shell.execute_reply": "2024-05-07T15:57:57.231639Z",
     "shell.execute_reply.started": "2024-05-07T15:57:57.231639Z"
    },
    "jupyter": {
     "outputs_hidden": false
    }
   },
   "outputs": [],
   "source": [
    "user_df.to_csv(video_name)\n",
    "contested_df.to_csv(r\"C:\\Users\\yongc\\Desktop\\Leo Code\\contested.csv\")"
   ]
  }
 ],
 "metadata": {
  "deepnote": {},
  "deepnote_execution_queue": [],
  "deepnote_notebook_id": "cf8fe3695d074ee7887fdf6459cbf5ce",
  "kernelspec": {
   "display_name": "Python 3 (ipykernel)",
   "language": "python",
   "name": "python3"
  },
  "language_info": {
   "codemirror_mode": {
    "name": "ipython",
    "version": 3
   },
   "file_extension": ".py",
   "mimetype": "text/x-python",
   "name": "python",
   "nbconvert_exporter": "python",
   "pygments_lexer": "ipython3",
   "version": "3.11.7"
  }
 },
 "nbformat": 4,
 "nbformat_minor": 4
}
