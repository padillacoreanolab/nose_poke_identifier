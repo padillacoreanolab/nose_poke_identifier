{
 "cells": [
  {
   "cell_type": "markdown",
   "metadata": {
    "cell_id": "c3a02adc9e884466bc8c79db549cc3d2",
    "deepnote_cell_type": "text-cell-h1",
    "formattedRanges": [
     {
      "fromCodePoint": 0,
      "marks": {
       "bold": true,
       "underline": true
      },
      "toCodePoint": 17,
      "type": "marks"
     }
    ]
   },
   "source": [
    "# Nose poke analysis"
   ]
  },
  {
   "cell_type": "markdown",
   "metadata": {
    "cell_id": "4546bee655b14a5dbf393161f1228e60",
    "deepnote_cell_type": "text-cell-p",
    "formattedRanges": []
   },
   "source": [
    "Brief 1-2 sentence description of notebook."
   ]
  },
  {
   "cell_type": "code",
   "execution_count": 31,
   "metadata": {
    "ExecuteTime": {
     "start_time": "2024-02-23T09:37:12.294329Z",
     "end_time": "2024-02-23T09:37:12.733167Z"
    }
   },
   "outputs": [],
   "source": [
    "import os\n",
    "import glob\n",
    "import git\n",
    "import sys\n"
   ]
  },
  {
   "cell_type": "code",
   "execution_count": 32,
   "metadata": {
    "cell_id": "03b495cefa6a4798a44c7f2e4c6a3ea7",
    "deepnote_cell_type": "code",
    "deepnote_to_be_reexecuted": false,
    "execution_millis": 21,
    "execution_start": 1691424003626,
    "source_hash": null,
    "ExecuteTime": {
     "start_time": "2024-02-23T09:37:12.309543Z",
     "end_time": "2024-02-23T09:37:12.773860Z"
    }
   },
   "outputs": [],
   "source": [
    "# Imports of all used packages and libraries\n",
    "import numpy as np\n",
    "import pandas as pd\n",
    "# import seaborn as sns\n",
    "import matplotlib as mpl\n",
    "import matplotlib.pyplot as plt\n",
    "import h5py\n",
    "from scipy.interpolate import interp1d\n",
    "from scipy.signal import savgol_filter\n"
   ]
  },
  {
   "cell_type": "code",
   "execution_count": 33,
   "metadata": {
    "ExecuteTime": {
     "start_time": "2024-02-23T09:37:12.317573Z",
     "end_time": "2024-02-23T09:37:12.875298Z"
    }
   },
   "outputs": [],
   "source": [
    "git_repo = git.Repo(\".\", search_parent_directories=True)\n",
    "git_root = git_repo.git.rev_parse(\"--show-toplevel\")"
   ]
  },
  {
   "cell_type": "code",
   "execution_count": 34,
   "metadata": {
    "ExecuteTime": {
     "start_time": "2024-02-23T09:37:12.644453Z",
     "end_time": "2024-02-23T09:37:12.875298Z"
    }
   },
   "outputs": [
    {
     "data": {
      "text/plain": "'C:/Users/yongc/Documents/GitHub/nose_poke_identifier'"
     },
     "execution_count": 34,
     "metadata": {},
     "output_type": "execute_result"
    }
   ],
   "source": [
    "git_root"
   ]
  },
  {
   "cell_type": "code",
   "execution_count": 35,
   "metadata": {
    "ExecuteTime": {
     "start_time": "2024-02-23T09:37:12.664488Z",
     "end_time": "2024-02-23T09:37:12.875298Z"
    }
   },
   "outputs": [],
   "source": [
    "sys.path.insert(0, os.path.join(git_root, 'src'))"
   ]
  },
  {
   "cell_type": "code",
   "execution_count": 36,
   "metadata": {
    "ExecuteTime": {
     "start_time": "2024-02-23T09:37:12.677565Z",
     "end_time": "2024-02-23T09:37:12.875298Z"
    }
   },
   "outputs": [],
   "source": [
    "import utilities.helper\n",
    "import sleap.process_pose"
   ]
  },
  {
   "cell_type": "code",
   "execution_count": 37,
   "metadata": {
    "ExecuteTime": {
     "start_time": "2024-02-23T09:37:12.690021Z",
     "end_time": "2024-02-23T09:37:12.875298Z"
    }
   },
   "outputs": [],
   "source": [
    "# sns.set('notebook', 'ticks', font_scale=1.2)\n",
    "mpl.rcParams['figure.figsize'] = [15,6]"
   ]
  },
  {
   "cell_type": "markdown",
   "metadata": {
    "cell_id": "d290bac2c17940bfbc0f9296beaf70e5",
    "deepnote_cell_type": "text-cell-h2",
    "formattedRanges": []
   },
   "source": [
    "## Inputs & Data"
   ]
  },
  {
   "cell_type": "markdown",
   "metadata": {
    "cell_id": "e528ce19c608425292151930d380f49f",
    "deepnote_cell_type": "text-cell-p",
    "formattedRanges": []
   },
   "source": [
    "Explanation of each input and where it comes from."
   ]
  },
  {
   "cell_type": "code",
   "execution_count": 38,
   "metadata": {
    "cell_id": "6cf83a5811054461a718a71673d09aab",
    "deepnote_cell_type": "code",
    "deepnote_to_be_reexecuted": false,
    "execution_millis": 373,
    "execution_start": 1691424003628,
    "source_hash": null,
    "ExecuteTime": {
     "start_time": "2024-02-23T09:37:12.707474Z",
     "end_time": "2024-02-23T09:37:12.954210Z"
    }
   },
   "outputs": [],
   "source": [
    "# Inputs and Required data loading\n",
    "# input varaible names are in all caps snake case\n",
    "# Whenever an input changes or is used for processing \n",
    "# the vairables are all lower in snake case\n",
    "NOSE_POKE_DF = pd.read_pickle(r\"./proc/rce_pilot_2_nose_pokes.pkl\")\n",
    "\n",
    "\n",
    "OUTPUT_DIR = r\"./proc\" # where data is saved should always be shown in the inputs\n",
    "MED_PC_WIDTH = 29.5\n",
    "MED_PC_HEIGHT = 24\n",
    "FRAME_RATE = 22\n",
    "WINDOW_SIZE = 25\n",
    "DISTANCE_THRESHOLD = 2"
   ]
  },
  {
   "cell_type": "code",
   "execution_count": 39,
   "metadata": {
    "ExecuteTime": {
     "start_time": "2024-02-23T09:37:12.773860Z",
     "end_time": "2024-02-23T09:37:12.971607Z"
    }
   },
   "outputs": [],
   "source": [
    "START_STOP_FRAME_DF = pd.read_excel(\"./rce_per_subject_start_stop_video_frame.xlsx\").dropna(subset=[\"file_path\"])"
   ]
  },
  {
   "cell_type": "code",
   "execution_count": 40,
   "metadata": {
    "ExecuteTime": {
     "start_time": "2024-02-23T09:37:12.818696Z",
     "end_time": "2024-02-23T09:37:13.920235Z"
    }
   },
   "outputs": [
    {
     "data": {
      "text/plain": "                                         session_dir  \\\n0  20230612_112630_standard_comp_to_training_D1_s...   \n1  20230612_112630_standard_comp_to_training_D1_s...   \n2  20230612_112630_standard_comp_to_training_D1_s...   \n3  20230612_112630_standard_comp_to_training_D1_s...   \n4  20230612_112630_standard_comp_to_training_D1_s...   \n\n                                         tone_frames box_1_port_entry_frames  \\\n0  [[1125, 1324], [3519, 3720], [5815, 6014], [76...              [192, 248]   \n1  [[1125, 1324], [3519, 3720], [5815, 6014], [76...              [389, 405]   \n2  [[1125, 1324], [3519, 3720], [5815, 6014], [76...              [916, 929]   \n3  [[1125, 1324], [3519, 3720], [5815, 6014], [76...              [929, 948]   \n4  [[1125, 1324], [3519, 3720], [5815, 6014], [76...              [961, 983]   \n\n                                          video_name  \\\n0  20230612_112630_standard_comp_to_training_D1_s...   \n1  20230612_112630_standard_comp_to_training_D1_s...   \n2  20230612_112630_standard_comp_to_training_D1_s...   \n3  20230612_112630_standard_comp_to_training_D1_s...   \n4  20230612_112630_standard_comp_to_training_D1_s...   \n\n                                        session_path all_subjects  \\\n0  /scratch/back_up/reward_competition_extention/...   [1.1, 1.2]   \n1  /scratch/back_up/reward_competition_extention/...   [1.1, 1.2]   \n2  /scratch/back_up/reward_competition_extention/...   [1.1, 1.2]   \n3  /scratch/back_up/reward_competition_extention/...   [1.1, 1.2]   \n4  /scratch/back_up/reward_competition_extention/...   [1.1, 1.2]   \n\n   first_timestamp  last_timestamp  \\\n0          7977066        76318450   \n1          7977066        76318450   \n2          7977066        76318450   \n3          7977066        76318450   \n4          7977066        76318450   \n\n                                     tone_timestamps  \\\n0  [[1126742, 1326741], [3526740, 3726740], [5826...   \n1  [[1126742, 1326741], [3526740, 3726740], [5826...   \n2  [[1126742, 1326741], [3526740, 3726740], [5826...   \n3  [[1126742, 1326741], [3526740, 3726740], [5826...   \n4  [[1126742, 1326741], [3526740, 3726740], [5826...   \n\n  box_1_port_entry_timestamps  ... nose_index entry_length  \\\n0            [192745, 249350]  ...          2           56   \n1            [389747, 407142]  ...          2           16   \n2            [917544, 931741]  ...          2           13   \n3            [932141, 950539]  ...          2           19   \n4            [963342, 986354]  ...          2           22   \n\n  box_1_port_entry_start box_1_port_entry_end  \\\n0                    192                  248   \n1                    389                  405   \n2                    916                  929   \n3                    929                  948   \n4                    961                  983   \n\n                                    sliced_locations  \\\n0  {'1.1': [[[47.88 11.6 ], [46.72  12.984], [48....   \n1  {'1.1': [[[46.1  33.44], [43.97 34.94], [46.16...   \n2  {'1.1': [[[61.34 18.  ], [58.6  18.38], [60.25...   \n3  {'1.1': [[[59.7   15.125], [60.84 16.25], [61....   \n4  {'1.1': [[[58.62 12.96], [60.28 14.03], [59.75...   \n\n                                    nose_coordinates  \\\n0  {'1.1': [[48.3, 13.7], [47.84, 13.695], [47.75...   \n1  {'1.1': [[46.16, 36.0], [46.12, 35.97], [46.16...   \n2  {'1.1': [[60.25, 19.8], [60.78, 19.5], [60.78,...   \n3  {'1.1': [[61.47, 16.03], [61.22, 15.4], [61.0,...   \n4  {'1.1': [[59.75, 13.06], [59.88, 14.26], [59.9...   \n\n                        nose_to_reward_port_distance  \\\n0  {'1.1': 22.351771133170907, '1.2': 0.988053123...   \n1  {'1.1': 0.8902350171923165, '1.2': 25.90464148...   \n2  {'1.1': 21.949273716111037, '1.2': 1.066196743...   \n3  {'1.1': 25.589320821862895, '1.2': 0.630309449...   \n4  {'1.1': 26.99243314043086, '1.2': 0.6916250894...   \n\n                      nose_to_reward_port_distance_x  entry_winner contested  \n0  {'1.1': 3.033430232558146, '1.2': 0.9709302325...           1.2     False  \n1  {'1.1': 0.8771802325581461, '1.2': 6.564680232...           1.1     False  \n2  {'1.1': 14.970930232558146, '1.2': 0.908430232...           1.2     False  \n3  {'1.1': 16.189680232558146, '1.2': 0.345930232...           1.2     False  \n4  {'1.1': 14.470930232558146, '1.2': 0.408430232...           1.2     False  \n\n[5 rows x 25 columns]",
      "text/html": "<div>\n<style scoped>\n    .dataframe tbody tr th:only-of-type {\n        vertical-align: middle;\n    }\n\n    .dataframe tbody tr th {\n        vertical-align: top;\n    }\n\n    .dataframe thead th {\n        text-align: right;\n    }\n</style>\n<table border=\"1\" class=\"dataframe\">\n  <thead>\n    <tr style=\"text-align: right;\">\n      <th></th>\n      <th>session_dir</th>\n      <th>tone_frames</th>\n      <th>box_1_port_entry_frames</th>\n      <th>video_name</th>\n      <th>session_path</th>\n      <th>all_subjects</th>\n      <th>first_timestamp</th>\n      <th>last_timestamp</th>\n      <th>tone_timestamps</th>\n      <th>box_1_port_entry_timestamps</th>\n      <th>...</th>\n      <th>nose_index</th>\n      <th>entry_length</th>\n      <th>box_1_port_entry_start</th>\n      <th>box_1_port_entry_end</th>\n      <th>sliced_locations</th>\n      <th>nose_coordinates</th>\n      <th>nose_to_reward_port_distance</th>\n      <th>nose_to_reward_port_distance_x</th>\n      <th>entry_winner</th>\n      <th>contested</th>\n    </tr>\n  </thead>\n  <tbody>\n    <tr>\n      <th>0</th>\n      <td>20230612_112630_standard_comp_to_training_D1_s...</td>\n      <td>[[1125, 1324], [3519, 3720], [5815, 6014], [76...</td>\n      <td>[192, 248]</td>\n      <td>20230612_112630_standard_comp_to_training_D1_s...</td>\n      <td>/scratch/back_up/reward_competition_extention/...</td>\n      <td>[1.1, 1.2]</td>\n      <td>7977066</td>\n      <td>76318450</td>\n      <td>[[1126742, 1326741], [3526740, 3726740], [5826...</td>\n      <td>[192745, 249350]</td>\n      <td>...</td>\n      <td>2</td>\n      <td>56</td>\n      <td>192</td>\n      <td>248</td>\n      <td>{'1.1': [[[47.88 11.6 ], [46.72  12.984], [48....</td>\n      <td>{'1.1': [[48.3, 13.7], [47.84, 13.695], [47.75...</td>\n      <td>{'1.1': 22.351771133170907, '1.2': 0.988053123...</td>\n      <td>{'1.1': 3.033430232558146, '1.2': 0.9709302325...</td>\n      <td>1.2</td>\n      <td>False</td>\n    </tr>\n    <tr>\n      <th>1</th>\n      <td>20230612_112630_standard_comp_to_training_D1_s...</td>\n      <td>[[1125, 1324], [3519, 3720], [5815, 6014], [76...</td>\n      <td>[389, 405]</td>\n      <td>20230612_112630_standard_comp_to_training_D1_s...</td>\n      <td>/scratch/back_up/reward_competition_extention/...</td>\n      <td>[1.1, 1.2]</td>\n      <td>7977066</td>\n      <td>76318450</td>\n      <td>[[1126742, 1326741], [3526740, 3726740], [5826...</td>\n      <td>[389747, 407142]</td>\n      <td>...</td>\n      <td>2</td>\n      <td>16</td>\n      <td>389</td>\n      <td>405</td>\n      <td>{'1.1': [[[46.1  33.44], [43.97 34.94], [46.16...</td>\n      <td>{'1.1': [[46.16, 36.0], [46.12, 35.97], [46.16...</td>\n      <td>{'1.1': 0.8902350171923165, '1.2': 25.90464148...</td>\n      <td>{'1.1': 0.8771802325581461, '1.2': 6.564680232...</td>\n      <td>1.1</td>\n      <td>False</td>\n    </tr>\n    <tr>\n      <th>2</th>\n      <td>20230612_112630_standard_comp_to_training_D1_s...</td>\n      <td>[[1125, 1324], [3519, 3720], [5815, 6014], [76...</td>\n      <td>[916, 929]</td>\n      <td>20230612_112630_standard_comp_to_training_D1_s...</td>\n      <td>/scratch/back_up/reward_competition_extention/...</td>\n      <td>[1.1, 1.2]</td>\n      <td>7977066</td>\n      <td>76318450</td>\n      <td>[[1126742, 1326741], [3526740, 3726740], [5826...</td>\n      <td>[917544, 931741]</td>\n      <td>...</td>\n      <td>2</td>\n      <td>13</td>\n      <td>916</td>\n      <td>929</td>\n      <td>{'1.1': [[[61.34 18.  ], [58.6  18.38], [60.25...</td>\n      <td>{'1.1': [[60.25, 19.8], [60.78, 19.5], [60.78,...</td>\n      <td>{'1.1': 21.949273716111037, '1.2': 1.066196743...</td>\n      <td>{'1.1': 14.970930232558146, '1.2': 0.908430232...</td>\n      <td>1.2</td>\n      <td>False</td>\n    </tr>\n    <tr>\n      <th>3</th>\n      <td>20230612_112630_standard_comp_to_training_D1_s...</td>\n      <td>[[1125, 1324], [3519, 3720], [5815, 6014], [76...</td>\n      <td>[929, 948]</td>\n      <td>20230612_112630_standard_comp_to_training_D1_s...</td>\n      <td>/scratch/back_up/reward_competition_extention/...</td>\n      <td>[1.1, 1.2]</td>\n      <td>7977066</td>\n      <td>76318450</td>\n      <td>[[1126742, 1326741], [3526740, 3726740], [5826...</td>\n      <td>[932141, 950539]</td>\n      <td>...</td>\n      <td>2</td>\n      <td>19</td>\n      <td>929</td>\n      <td>948</td>\n      <td>{'1.1': [[[59.7   15.125], [60.84 16.25], [61....</td>\n      <td>{'1.1': [[61.47, 16.03], [61.22, 15.4], [61.0,...</td>\n      <td>{'1.1': 25.589320821862895, '1.2': 0.630309449...</td>\n      <td>{'1.1': 16.189680232558146, '1.2': 0.345930232...</td>\n      <td>1.2</td>\n      <td>False</td>\n    </tr>\n    <tr>\n      <th>4</th>\n      <td>20230612_112630_standard_comp_to_training_D1_s...</td>\n      <td>[[1125, 1324], [3519, 3720], [5815, 6014], [76...</td>\n      <td>[961, 983]</td>\n      <td>20230612_112630_standard_comp_to_training_D1_s...</td>\n      <td>/scratch/back_up/reward_competition_extention/...</td>\n      <td>[1.1, 1.2]</td>\n      <td>7977066</td>\n      <td>76318450</td>\n      <td>[[1126742, 1326741], [3526740, 3726740], [5826...</td>\n      <td>[963342, 986354]</td>\n      <td>...</td>\n      <td>2</td>\n      <td>22</td>\n      <td>961</td>\n      <td>983</td>\n      <td>{'1.1': [[[58.62 12.96], [60.28 14.03], [59.75...</td>\n      <td>{'1.1': [[59.75, 13.06], [59.88, 14.26], [59.9...</td>\n      <td>{'1.1': 26.99243314043086, '1.2': 0.6916250894...</td>\n      <td>{'1.1': 14.470930232558146, '1.2': 0.408430232...</td>\n      <td>1.2</td>\n      <td>False</td>\n    </tr>\n  </tbody>\n</table>\n<p>5 rows × 25 columns</p>\n</div>"
     },
     "execution_count": 40,
     "metadata": {},
     "output_type": "execute_result"
    }
   ],
   "source": [
    "NOSE_POKE_DF.head()"
   ]
  },
  {
   "cell_type": "markdown",
   "metadata": {
    "cell_id": "e3ee4891d43a4ac287413afc552ca289",
    "deepnote_cell_type": "text-cell-h2",
    "formattedRanges": []
   },
   "source": [
    "## Outputs"
   ]
  },
  {
   "cell_type": "markdown",
   "metadata": {
    "cell_id": "9ccbf6cc70fd4d379fa29317f733771f",
    "deepnote_cell_type": "text-cell-p",
    "formattedRanges": []
   },
   "source": [
    "Describe each output that the notebook creates. "
   ]
  },
  {
   "cell_type": "markdown",
   "metadata": {
    "cell_id": "fc8e8920a6944918a15fac575cdf6e78",
    "deepnote_cell_type": "text-cell-bullet",
    "formattedRanges": []
   },
   "source": [
    "- Is it a plot or is it data?"
   ]
  },
  {
   "cell_type": "markdown",
   "metadata": {
    "cell_id": "1e639d4776a84aa9ac8ded2e14fa57db",
    "deepnote_cell_type": "text-cell-bullet",
    "formattedRanges": []
   },
   "source": [
    "- How valuable is the output and why is it valuable or useful?"
   ]
  },
  {
   "cell_type": "code",
   "execution_count": 41,
   "metadata": {
    "ExecuteTime": {
     "start_time": "2024-02-23T09:37:13.930545Z",
     "end_time": "2024-02-23T09:37:13.939544Z"
    }
   },
   "outputs": [],
   "source": [
    "# Inputs and Required data loading\n",
    "# input varaible names are in all caps snake case\n",
    "# Whenever an input changes or is used for processing \n",
    "# the vairables are all lower in snake case\n",
    "OUTPUT_DIR = r\"./proc/\" # where data is saved should always be shown in the inputs\n",
    "os.makedirs(OUTPUT_DIR, exist_ok=True)\n",
    "OUTPUT_PREFIX = \"rce_pilot_2\""
   ]
  },
  {
   "cell_type": "code",
   "execution_count": 42,
   "metadata": {
    "ExecuteTime": {
     "start_time": "2024-02-23T09:37:13.939544Z",
     "end_time": "2024-02-23T09:37:14.031182Z"
    }
   },
   "outputs": [],
   "source": [
    "NOSE_POKE_PKL = \"{}_nose_poke_analysis.pkl\".format(OUTPUT_PREFIX)"
   ]
  },
  {
   "cell_type": "markdown",
   "metadata": {
    "cell_id": "8999d19b6b7d4d63bc90f0b0bd9ab085",
    "deepnote_cell_type": "text-cell-h2",
    "formattedRanges": []
   },
   "source": [
    "## Processing"
   ]
  },
  {
   "cell_type": "markdown",
   "metadata": {
    "cell_id": "9b36cdf08567463082b005cb0dec684b",
    "deepnote_cell_type": "text-cell-p",
    "formattedRanges": []
   },
   "source": [
    "Describe what is done to the data here and how inputs are manipulated to generate outputs. "
   ]
  },
  {
   "cell_type": "code",
   "execution_count": 43,
   "metadata": {
    "ExecuteTime": {
     "start_time": "2024-02-23T09:37:13.959847Z",
     "end_time": "2024-02-23T09:37:14.111605Z"
    }
   },
   "outputs": [
    {
     "data": {
      "text/plain": "Index(['session_dir', 'tone_frames', 'box_1_port_entry_frames', 'video_name',\n       'session_path', 'all_subjects', 'first_timestamp', 'last_timestamp',\n       'tone_timestamps', 'box_1_port_entry_timestamps', 'box_top_left',\n       'box_top_right', 'reward_port', 'box_bottom_left', 'box_bottom_right',\n       'nose_index', 'entry_length', 'box_1_port_entry_start',\n       'box_1_port_entry_end', 'sliced_locations', 'nose_coordinates',\n       'nose_to_reward_port_distance', 'nose_to_reward_port_distance_x',\n       'entry_winner', 'contested'],\n      dtype='object')"
     },
     "execution_count": 43,
     "metadata": {},
     "output_type": "execute_result"
    }
   ],
   "source": [
    "NOSE_POKE_DF.columns"
   ]
  },
  {
   "cell_type": "code",
   "execution_count": 44,
   "metadata": {
    "ExecuteTime": {
     "start_time": "2024-02-23T09:37:13.980484Z",
     "end_time": "2024-02-23T09:37:14.125553Z"
    }
   },
   "outputs": [],
   "source": [
    "contested_df = NOSE_POKE_DF[NOSE_POKE_DF[\"contested\"] == True]"
   ]
  },
  {
   "cell_type": "code",
   "execution_count": 45,
   "metadata": {
    "ExecuteTime": {
     "start_time": "2024-02-23T09:37:13.987190Z",
     "end_time": "2024-02-23T09:37:14.127347Z"
    }
   },
   "outputs": [
    {
     "data": {
      "text/plain": "(56, 6, 2)"
     },
     "execution_count": 45,
     "metadata": {},
     "output_type": "execute_result"
    }
   ],
   "source": [
    "NOSE_POKE_DF[\"sliced_locations\"].iloc[0][\"1.1\"].shape"
   ]
  },
  {
   "cell_type": "code",
   "execution_count": 46,
   "metadata": {
    "ExecuteTime": {
     "start_time": "2024-02-23T09:37:14.011239Z",
     "end_time": "2024-02-23T09:37:14.127347Z"
    }
   },
   "outputs": [
    {
     "data": {
      "text/plain": "56"
     },
     "execution_count": 46,
     "metadata": {},
     "output_type": "execute_result"
    }
   ],
   "source": [
    "NOSE_POKE_DF[\"entry_length\"].iloc[0]"
   ]
  },
  {
   "cell_type": "code",
   "execution_count": 47,
   "metadata": {
    "ExecuteTime": {
     "start_time": "2024-02-23T09:37:14.031182Z",
     "end_time": "2024-02-23T09:37:16.571401Z"
    }
   },
   "outputs": [
    {
     "data": {
      "text/plain": "                                           session_dir  \\\n155  20230612_112630_standard_comp_to_training_D1_s...   \n156  20230612_112630_standard_comp_to_training_D1_s...   \n165  20230612_112630_standard_comp_to_training_D1_s...   \n167  20230612_112630_standard_comp_to_training_D1_s...   \n211  20230612_112630_standard_comp_to_training_D1_s...   \n\n                                           tone_frames  \\\n155  [[1125, 1324], [3519, 3720], [5815, 6014], [76...   \n156  [[1125, 1324], [3519, 3720], [5815, 6014], [76...   \n165  [[1125, 1324], [3519, 3720], [5815, 6014], [76...   \n167  [[1125, 1324], [3519, 3720], [5815, 6014], [76...   \n211  [[1125, 1324], [3519, 3720], [5815, 6014], [76...   \n\n    box_1_port_entry_frames  \\\n155            [9720, 9868]   \n156            [9870, 9899]   \n165          [10516, 10518]   \n167          [10640, 10723]   \n211          [14368, 14606]   \n\n                                            video_name  \\\n155  20230612_112630_standard_comp_to_training_D1_s...   \n156  20230612_112630_standard_comp_to_training_D1_s...   \n165  20230612_112630_standard_comp_to_training_D1_s...   \n167  20230612_112630_standard_comp_to_training_D1_s...   \n211  20230612_112630_standard_comp_to_training_D1_s...   \n\n                                          session_path all_subjects  \\\n155  /scratch/back_up/reward_competition_extention/...   [1.1, 1.2]   \n156  /scratch/back_up/reward_competition_extention/...   [1.1, 1.2]   \n165  /scratch/back_up/reward_competition_extention/...   [1.1, 1.2]   \n167  /scratch/back_up/reward_competition_extention/...   [1.1, 1.2]   \n211  /scratch/back_up/reward_competition_extention/...   [1.1, 1.2]   \n\n     first_timestamp  last_timestamp  \\\n155          7977066        76318450   \n156          7977066        76318450   \n165          7977066        76318450   \n167          7977066        76318450   \n211          7977066        76318450   \n\n                                       tone_timestamps  \\\n155  [[1126742, 1326741], [3526740, 3726740], [5826...   \n156  [[1126742, 1326741], [3526740, 3726740], [5826...   \n165  [[1126742, 1326741], [3526740, 3726740], [5826...   \n167  [[1126742, 1326741], [3526740, 3726740], [5826...   \n211  [[1126742, 1326741], [3526740, 3726740], [5826...   \n\n    box_1_port_entry_timestamps  ... nose_index entry_length  \\\n155          [9739343, 9887730]  ...          2          148   \n156          [9888732, 9917332]  ...          2           29   \n165        [10536335, 10539137]  ...          2            2   \n167        [10660132, 10744137]  ...          2           83   \n211        [14396328, 14634333]  ...          2          238   \n\n    box_1_port_entry_start box_1_port_entry_end  \\\n155                   9720                 9868   \n156                   9870                 9899   \n165                  10516                10518   \n167                  10640                10723   \n211                  14368                14606   \n\n                                      sliced_locations  \\\n155  {'1.1': [[[40.5  34.94], [38.9 36.3], [44.44 3...   \n156  {'1.1': [[[42.22 34.97], [40.6 37.1], [44.84 3...   \n165  {'1.1': [[[39.97 34.56], [38.9 35.6], [44.44 3...   \n167  {'1.1': [[[42.28 34.6 ], [40.88 36.1 ], [44.8 ...   \n211  {'1.1': [[[39.97 34.94], [38.2  36.34], [44.3 ...   \n\n                                      nose_coordinates  \\\n155  {'1.1': [[44.44, 36.4], [44.97, 36.7], [44.78,...   \n156  {'1.1': [[44.84, 36.72], [44.75, 36.72], [44.6...   \n165  {'1.1': [[44.44, 36.0], [43.9, 36.0]], '1.2': ...   \n167  {'1.1': [[44.8, 36.44], [44.56, 36.5], [44.28,...   \n211  {'1.1': [[44.3, 36.38], [44.2, 36.38], [44.03,...   \n\n                          nose_to_reward_port_distance  \\\n155  {'1.1': 1.0098364634611707, '1.2': 0.588110045...   \n156  {'1.1': 0.9734128200563306, '1.2': 0.598293383...   \n165  {'1.1': 0.855168345366441, '1.2': 0.4728801936...   \n167  {'1.1': 0.7517168454547564, '1.2': 1.168323123...   \n211  {'1.1': 1.10085393736415, '1.2': 0.97668180138...   \n\n                        nose_to_reward_port_distance_x  entry_winner contested  \n155  {'1.1': 0.8415697674418539, '1.2': 0.185319767...           1.2      True  \n156  {'1.1': 0.43531976744185386, '1.2': 0.28343023...           1.2      True  \n165  {'1.1': 0.8415697674418539, '1.2': 0.404069767...           1.2      True  \n167  {'1.1': 0.46656976744185386, '1.2': 0.77906976...           1.1      True  \n211  {'1.1': 0.9665697674418539, '1.2': 0.841569767...           1.2      True  \n\n[5 rows x 25 columns]",
      "text/html": "<div>\n<style scoped>\n    .dataframe tbody tr th:only-of-type {\n        vertical-align: middle;\n    }\n\n    .dataframe tbody tr th {\n        vertical-align: top;\n    }\n\n    .dataframe thead th {\n        text-align: right;\n    }\n</style>\n<table border=\"1\" class=\"dataframe\">\n  <thead>\n    <tr style=\"text-align: right;\">\n      <th></th>\n      <th>session_dir</th>\n      <th>tone_frames</th>\n      <th>box_1_port_entry_frames</th>\n      <th>video_name</th>\n      <th>session_path</th>\n      <th>all_subjects</th>\n      <th>first_timestamp</th>\n      <th>last_timestamp</th>\n      <th>tone_timestamps</th>\n      <th>box_1_port_entry_timestamps</th>\n      <th>...</th>\n      <th>nose_index</th>\n      <th>entry_length</th>\n      <th>box_1_port_entry_start</th>\n      <th>box_1_port_entry_end</th>\n      <th>sliced_locations</th>\n      <th>nose_coordinates</th>\n      <th>nose_to_reward_port_distance</th>\n      <th>nose_to_reward_port_distance_x</th>\n      <th>entry_winner</th>\n      <th>contested</th>\n    </tr>\n  </thead>\n  <tbody>\n    <tr>\n      <th>155</th>\n      <td>20230612_112630_standard_comp_to_training_D1_s...</td>\n      <td>[[1125, 1324], [3519, 3720], [5815, 6014], [76...</td>\n      <td>[9720, 9868]</td>\n      <td>20230612_112630_standard_comp_to_training_D1_s...</td>\n      <td>/scratch/back_up/reward_competition_extention/...</td>\n      <td>[1.1, 1.2]</td>\n      <td>7977066</td>\n      <td>76318450</td>\n      <td>[[1126742, 1326741], [3526740, 3726740], [5826...</td>\n      <td>[9739343, 9887730]</td>\n      <td>...</td>\n      <td>2</td>\n      <td>148</td>\n      <td>9720</td>\n      <td>9868</td>\n      <td>{'1.1': [[[40.5  34.94], [38.9 36.3], [44.44 3...</td>\n      <td>{'1.1': [[44.44, 36.4], [44.97, 36.7], [44.78,...</td>\n      <td>{'1.1': 1.0098364634611707, '1.2': 0.588110045...</td>\n      <td>{'1.1': 0.8415697674418539, '1.2': 0.185319767...</td>\n      <td>1.2</td>\n      <td>True</td>\n    </tr>\n    <tr>\n      <th>156</th>\n      <td>20230612_112630_standard_comp_to_training_D1_s...</td>\n      <td>[[1125, 1324], [3519, 3720], [5815, 6014], [76...</td>\n      <td>[9870, 9899]</td>\n      <td>20230612_112630_standard_comp_to_training_D1_s...</td>\n      <td>/scratch/back_up/reward_competition_extention/...</td>\n      <td>[1.1, 1.2]</td>\n      <td>7977066</td>\n      <td>76318450</td>\n      <td>[[1126742, 1326741], [3526740, 3726740], [5826...</td>\n      <td>[9888732, 9917332]</td>\n      <td>...</td>\n      <td>2</td>\n      <td>29</td>\n      <td>9870</td>\n      <td>9899</td>\n      <td>{'1.1': [[[42.22 34.97], [40.6 37.1], [44.84 3...</td>\n      <td>{'1.1': [[44.84, 36.72], [44.75, 36.72], [44.6...</td>\n      <td>{'1.1': 0.9734128200563306, '1.2': 0.598293383...</td>\n      <td>{'1.1': 0.43531976744185386, '1.2': 0.28343023...</td>\n      <td>1.2</td>\n      <td>True</td>\n    </tr>\n    <tr>\n      <th>165</th>\n      <td>20230612_112630_standard_comp_to_training_D1_s...</td>\n      <td>[[1125, 1324], [3519, 3720], [5815, 6014], [76...</td>\n      <td>[10516, 10518]</td>\n      <td>20230612_112630_standard_comp_to_training_D1_s...</td>\n      <td>/scratch/back_up/reward_competition_extention/...</td>\n      <td>[1.1, 1.2]</td>\n      <td>7977066</td>\n      <td>76318450</td>\n      <td>[[1126742, 1326741], [3526740, 3726740], [5826...</td>\n      <td>[10536335, 10539137]</td>\n      <td>...</td>\n      <td>2</td>\n      <td>2</td>\n      <td>10516</td>\n      <td>10518</td>\n      <td>{'1.1': [[[39.97 34.56], [38.9 35.6], [44.44 3...</td>\n      <td>{'1.1': [[44.44, 36.0], [43.9, 36.0]], '1.2': ...</td>\n      <td>{'1.1': 0.855168345366441, '1.2': 0.4728801936...</td>\n      <td>{'1.1': 0.8415697674418539, '1.2': 0.404069767...</td>\n      <td>1.2</td>\n      <td>True</td>\n    </tr>\n    <tr>\n      <th>167</th>\n      <td>20230612_112630_standard_comp_to_training_D1_s...</td>\n      <td>[[1125, 1324], [3519, 3720], [5815, 6014], [76...</td>\n      <td>[10640, 10723]</td>\n      <td>20230612_112630_standard_comp_to_training_D1_s...</td>\n      <td>/scratch/back_up/reward_competition_extention/...</td>\n      <td>[1.1, 1.2]</td>\n      <td>7977066</td>\n      <td>76318450</td>\n      <td>[[1126742, 1326741], [3526740, 3726740], [5826...</td>\n      <td>[10660132, 10744137]</td>\n      <td>...</td>\n      <td>2</td>\n      <td>83</td>\n      <td>10640</td>\n      <td>10723</td>\n      <td>{'1.1': [[[42.28 34.6 ], [40.88 36.1 ], [44.8 ...</td>\n      <td>{'1.1': [[44.8, 36.44], [44.56, 36.5], [44.28,...</td>\n      <td>{'1.1': 0.7517168454547564, '1.2': 1.168323123...</td>\n      <td>{'1.1': 0.46656976744185386, '1.2': 0.77906976...</td>\n      <td>1.1</td>\n      <td>True</td>\n    </tr>\n    <tr>\n      <th>211</th>\n      <td>20230612_112630_standard_comp_to_training_D1_s...</td>\n      <td>[[1125, 1324], [3519, 3720], [5815, 6014], [76...</td>\n      <td>[14368, 14606]</td>\n      <td>20230612_112630_standard_comp_to_training_D1_s...</td>\n      <td>/scratch/back_up/reward_competition_extention/...</td>\n      <td>[1.1, 1.2]</td>\n      <td>7977066</td>\n      <td>76318450</td>\n      <td>[[1126742, 1326741], [3526740, 3726740], [5826...</td>\n      <td>[14396328, 14634333]</td>\n      <td>...</td>\n      <td>2</td>\n      <td>238</td>\n      <td>14368</td>\n      <td>14606</td>\n      <td>{'1.1': [[[39.97 34.94], [38.2  36.34], [44.3 ...</td>\n      <td>{'1.1': [[44.3, 36.38], [44.2, 36.38], [44.03,...</td>\n      <td>{'1.1': 1.10085393736415, '1.2': 0.97668180138...</td>\n      <td>{'1.1': 0.9665697674418539, '1.2': 0.841569767...</td>\n      <td>1.2</td>\n      <td>True</td>\n    </tr>\n  </tbody>\n</table>\n<p>5 rows × 25 columns</p>\n</div>"
     },
     "execution_count": 47,
     "metadata": {},
     "output_type": "execute_result"
    }
   ],
   "source": [
    "contested_df.head()"
   ]
  },
  {
   "cell_type": "code",
   "execution_count": 48,
   "outputs": [],
   "source": [
    "user_df = contested_df[['video_name',\n",
    "                        'all_subjects',\n",
    "                        'box_1_port_entry_timestamps',\n",
    "                        'entry_winner']].copy()"
   ],
   "metadata": {
    "collapsed": false,
    "ExecuteTime": {
     "start_time": "2024-02-23T09:37:16.580629Z",
     "end_time": "2024-02-23T09:37:16.652464Z"
    }
   }
  },
  {
   "cell_type": "code",
   "execution_count": 58,
   "outputs": [
    {
     "data": {
      "text/plain": "                                            video_name all_subjects  \\\n155  20230612_112630_standard_comp_to_training_D1_s...   [1.1, 1.2]   \n156  20230612_112630_standard_comp_to_training_D1_s...   [1.1, 1.2]   \n165  20230612_112630_standard_comp_to_training_D1_s...   [1.1, 1.2]   \n167  20230612_112630_standard_comp_to_training_D1_s...   [1.1, 1.2]   \n211  20230612_112630_standard_comp_to_training_D1_s...   [1.1, 1.2]   \n\n    box_1_port_entry_timestamps entry_winner  \n155          [9739343, 9887730]          1.2  \n156          [9888732, 9917332]          1.2  \n165        [10536335, 10539137]          1.2  \n167        [10660132, 10744137]          1.1  \n211        [14396328, 14634333]          1.2  ",
      "text/html": "<div>\n<style scoped>\n    .dataframe tbody tr th:only-of-type {\n        vertical-align: middle;\n    }\n\n    .dataframe tbody tr th {\n        vertical-align: top;\n    }\n\n    .dataframe thead th {\n        text-align: right;\n    }\n</style>\n<table border=\"1\" class=\"dataframe\">\n  <thead>\n    <tr style=\"text-align: right;\">\n      <th></th>\n      <th>video_name</th>\n      <th>all_subjects</th>\n      <th>box_1_port_entry_timestamps</th>\n      <th>entry_winner</th>\n    </tr>\n  </thead>\n  <tbody>\n    <tr>\n      <th>155</th>\n      <td>20230612_112630_standard_comp_to_training_D1_s...</td>\n      <td>[1.1, 1.2]</td>\n      <td>[9739343, 9887730]</td>\n      <td>1.2</td>\n    </tr>\n    <tr>\n      <th>156</th>\n      <td>20230612_112630_standard_comp_to_training_D1_s...</td>\n      <td>[1.1, 1.2]</td>\n      <td>[9888732, 9917332]</td>\n      <td>1.2</td>\n    </tr>\n    <tr>\n      <th>165</th>\n      <td>20230612_112630_standard_comp_to_training_D1_s...</td>\n      <td>[1.1, 1.2]</td>\n      <td>[10536335, 10539137]</td>\n      <td>1.2</td>\n    </tr>\n    <tr>\n      <th>167</th>\n      <td>20230612_112630_standard_comp_to_training_D1_s...</td>\n      <td>[1.1, 1.2]</td>\n      <td>[10660132, 10744137]</td>\n      <td>1.1</td>\n    </tr>\n    <tr>\n      <th>211</th>\n      <td>20230612_112630_standard_comp_to_training_D1_s...</td>\n      <td>[1.1, 1.2]</td>\n      <td>[14396328, 14634333]</td>\n      <td>1.2</td>\n    </tr>\n  </tbody>\n</table>\n</div>"
     },
     "execution_count": 58,
     "metadata": {},
     "output_type": "execute_result"
    }
   ],
   "source": [
    "user_df.head()"
   ],
   "metadata": {
    "collapsed": false,
    "ExecuteTime": {
     "start_time": "2024-02-23T09:44:26.054619Z",
     "end_time": "2024-02-23T09:44:26.059192Z"
    }
   }
  },
  {
   "cell_type": "code",
   "execution_count": 57,
   "outputs": [],
   "source": [
    "video_name = user_df['video_name'].iloc[0]\n",
    "video_name = r\"C:\\Users\\yongc\\Desktop\\Leo Code\\\\\" +video_name + 'contested_frames.csv'"
   ],
   "metadata": {
    "collapsed": false,
    "ExecuteTime": {
     "start_time": "2024-02-23T09:44:23.619174Z",
     "end_time": "2024-02-23T09:44:23.653619Z"
    }
   }
  },
  {
   "cell_type": "code",
   "execution_count": 61,
   "outputs": [],
   "source": [
    "user_df.to_csv(video_name)\n",
    "contested_df.to_csv(r\"C:\\Users\\yongc\\Desktop\\Leo Code\\contested.csv\")"
   ],
   "metadata": {
    "collapsed": false,
    "ExecuteTime": {
     "start_time": "2024-02-23T09:48:33.118641Z",
     "end_time": "2024-02-23T09:48:33.264103Z"
    }
   }
  }
 ],
 "metadata": {
  "deepnote": {},
  "deepnote_execution_queue": [],
  "deepnote_notebook_id": "cf8fe3695d074ee7887fdf6459cbf5ce",
  "kernelspec": {
   "display_name": "Python 3 (ipykernel)",
   "language": "python",
   "name": "python3"
  },
  "language_info": {
   "codemirror_mode": {
    "name": "ipython",
    "version": 3
   },
   "file_extension": ".py",
   "mimetype": "text/x-python",
   "name": "python",
   "nbconvert_exporter": "python",
   "pygments_lexer": "ipython3",
   "version": "3.9.18"
  }
 },
 "nbformat": 4,
 "nbformat_minor": 4
}
